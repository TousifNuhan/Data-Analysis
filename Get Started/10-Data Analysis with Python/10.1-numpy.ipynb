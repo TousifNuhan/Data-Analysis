{
 "cells": [
  {
   "cell_type": "markdown",
   "id": "1ca9b9d7",
   "metadata": {},
   "source": [
    "1. List (built-in list)\n",
    "python\n",
    "Copy\n",
    "Edit\n",
    "a = [1, 2, 3, 4]\n",
    "✅ Built-in Python data type.\n",
    "\n",
    "✅ Can store different data types: integers, strings, floats, even other lists.\n",
    "\n",
    "python\n",
    "Copy\n",
    "Edit\n",
    "a = [1, \"hello\", 3.14, [4, 5]]\n",
    "✅ Dynamically resizable.\n",
    "\n",
    "❌ Not memory-efficient for large numeric data.\n",
    "\n",
    "❌ Slower for numerical operations compared to arrays."
   ]
  },
  {
   "cell_type": "markdown",
   "id": "82cad790",
   "metadata": {},
   "source": [
    " 2. Array (from array module or numpy)\n",
    "Python has two types of arrays:\n",
    "\n",
    "🔹 a) array.array (standard library)\n",
    "python\n",
    "Copy\n",
    "Edit\n",
    "from array import array\n",
    "a = array('i', [1, 2, 3, 4])  # 'i' stands for integer\n",
    "✅ More memory-efficient than lists for large numeric data.\n",
    "\n",
    "❌ Can only store one data type (e.g., all integers or all floats).\n",
    "\n",
    "✅ Good for numeric tasks, but limited features.\n",
    "\n",
    "🔹 b) numpy.array (most commonly used)\n",
    "python\n",
    "Copy\n",
    "Edit\n",
    "import numpy as np\n",
    "a = np.array([1, 2, 3, 4])\n",
    "✅ Highly efficient for numerical computations.\n",
    "\n",
    "✅ Supports vectorized operations (like a + 5 adds 5 to every element).\n",
    "\n",
    "✅ Can be multi-dimensional (matrices, tensors).\n",
    "\n",
    "✅ Fast and optimized (used heavily in data science, ML, etc.).\n",
    "\n",
    "❌ Requires installing the NumPy library."
   ]
  },
  {
   "cell_type": "code",
   "execution_count": 21,
   "id": "fa10f0e3",
   "metadata": {},
   "outputs": [],
   "source": [
    "import numpy as np"
   ]
  },
  {
   "cell_type": "code",
   "execution_count": 22,
   "id": "8279a88b",
   "metadata": {},
   "outputs": [
    {
     "name": "stdout",
     "output_type": "stream",
     "text": [
      "Requirement already satisfied: numpy in c:\\f\\ds\\data analysis\\venv\\lib\\site-packages (2.3.2)\n"
     ]
    }
   ],
   "source": [
    "!pip install numpy"
   ]
  },
  {
   "cell_type": "code",
   "execution_count": 23,
   "id": "68b22eb1",
   "metadata": {},
   "outputs": [
    {
     "name": "stdout",
     "output_type": "stream",
     "text": [
      "[1 2 3 4 5]\n",
      "<class 'numpy.ndarray'>\n",
      "[1 2 3 4 5]\n",
      "<class 'numpy.ndarray'>\n",
      "(5,)\n",
      "[[1 2 3 4 5]]\n",
      "<class 'numpy.ndarray'>\n",
      "(1, 5)\n"
     ]
    }
   ],
   "source": [
    "## 1D array\n",
    "\n",
    "import numpy as np\n",
    "\n",
    "arr1=np.array([1,2,3,4,5])   ## here we can give lists or tuples\n",
    "print(arr1)\n",
    "print(type(arr1))\n",
    "\n",
    "arr1=np.array(range(1,6))\n",
    "print(arr1)\n",
    "print(type(arr1))\n",
    "print(arr1.shape)\n",
    "\n",
    "arr1=np.array([range(1,6)])   ## here it is 2D array\n",
    "print(arr1)\n",
    "print(type(arr1))\n",
    "\n",
    "print(arr1.shape)  ## it means it is 1D and there is only. There is no specific rows and columns"
   ]
  },
  {
   "cell_type": "code",
   "execution_count": 24,
   "id": "01a0b72d",
   "metadata": {},
   "outputs": [
    {
     "name": "stdout",
     "output_type": "stream",
     "text": [
      "[[1 2 3 4 5]]\n",
      "(1, 5)\n"
     ]
    }
   ],
   "source": [
    "## 2D Array\n",
    "arr2=np.array([1,2,3,4,5])\n",
    "a = arr2.reshape(1,5)    ## reshape converts a 1D array to a 2D array and it has 1 row and 5 Columns\n",
    "print(a)\n",
    "## Or\n",
    "\n",
    "arr2=np.array([[1,2,3,4,5]])\n",
    "b = arr2.shape\n",
    "print(b)"
   ]
  },
  {
   "cell_type": "code",
   "execution_count": 25,
   "id": "89b5f63d",
   "metadata": {},
   "outputs": [
    {
     "name": "stdout",
     "output_type": "stream",
     "text": [
      "[[1 2 3 4 5]\n",
      " [2 3 4 5 6]]\n",
      "(2, 5)\n"
     ]
    }
   ],
   "source": [
    "## 2D array\n",
    "\n",
    "arr3=np.array([[1,2,3,4,5],[2,3,4,5,6]])\n",
    "print(arr3)\n",
    "print(arr3.shape)"
   ]
  },
  {
   "cell_type": "code",
   "execution_count": 26,
   "id": "705d5f81",
   "metadata": {},
   "outputs": [
    {
     "data": {
      "text/plain": [
       "array([[0],\n",
       "       [2],\n",
       "       [4],\n",
       "       [6],\n",
       "       [8]])"
      ]
     },
     "execution_count": 26,
     "metadata": {},
     "output_type": "execute_result"
    }
   ],
   "source": [
    "### Create arrays with inbuild functions\n",
    "\n",
    "np.arange(0,10,2).reshape(5,1)"
   ]
  },
  {
   "cell_type": "code",
   "execution_count": 27,
   "id": "be1ca0da",
   "metadata": {},
   "outputs": [
    {
     "data": {
      "text/plain": [
       "array([[1., 1., 1., 1.],\n",
       "       [1., 1., 1., 1.],\n",
       "       [1., 1., 1., 1.]])"
      ]
     },
     "execution_count": 27,
     "metadata": {},
     "output_type": "execute_result"
    }
   ],
   "source": [
    "np.ones((3,4))        ## it helps in deep learning"
   ]
  },
  {
   "cell_type": "code",
   "execution_count": 28,
   "id": "102ef5a2",
   "metadata": {},
   "outputs": [
    {
     "name": "stdout",
     "output_type": "stream",
     "text": [
      "[[1. 0.]\n",
      " [0. 1.]]\n",
      "[[1. 0. 0.]\n",
      " [0. 1. 0.]\n",
      " [0. 0. 1.]]\n"
     ]
    }
   ],
   "source": [
    "## Identity matrix\n",
    "\n",
    "a=np.eye(2)\n",
    "print(a)\n",
    "\n",
    "b=np.eye(3)\n",
    "print(b)"
   ]
  },
  {
   "cell_type": "code",
   "execution_count": 29,
   "id": "1540a51a",
   "metadata": {},
   "outputs": [
    {
     "name": "stdout",
     "output_type": "stream",
     "text": [
      "Array:\n",
      " [[ 1  2  3  4  5]\n",
      " [ 6  7  8  9 10]]\n",
      "Shape: (2, 5)\n",
      "Number of Dimention: 2\n",
      "Size: 10\n",
      "Data Type: int64\n",
      "Item Size(In Bytes): 8\n"
     ]
    }
   ],
   "source": [
    "## Attributes of Numpy Array\n",
    "\n",
    "arr=np.array([[1,2,3,4,5],[6,7,8,9,10]])\n",
    "\n",
    "print(\"Array:\\n\",arr)\n",
    "print(\"Shape:\",arr.shape)\n",
    "print(\"Number of Dimention:\",arr.ndim)\n",
    "print(\"Size:\",arr.size)\n",
    "print(\"Data Type:\",arr.dtype) \n",
    "print(\"Item Size(In Bytes):\",arr.itemsize)"
   ]
  },
  {
   "cell_type": "code",
   "execution_count": 30,
   "id": "2ac1e75a",
   "metadata": {},
   "outputs": [
    {
     "name": "stdout",
     "output_type": "stream",
     "text": [
      "Addition: [11 22 33 44 55]\n",
      "Substraction: [ -9 -18 -27 -36 -45]\n",
      "Multiplication: [ 10  40  90 160 250]\n",
      "Division: [0.1 0.1 0.1 0.1 0.1]\n"
     ]
    }
   ],
   "source": [
    "## Numpy Vectorized Operation\n",
    "\n",
    "arr1=np.array([1,2,3,4,5])\n",
    "arr2=np.array([10,20,30,40,50])\n",
    "\n",
    "##Element wise addition\n",
    "print(\"Addition:\",arr1+arr2)\n",
    "\n",
    "##Element wise Substraction\n",
    "print(\"Substraction:\",arr1-arr2)\n",
    "\n",
    "##Element wise Multiplication\n",
    "print(\"Multiplication:\",arr1*arr2)\n",
    "\n",
    "##Element wise Division\n",
    "print(\"Division:\",arr1/arr2)"
   ]
  },
  {
   "cell_type": "code",
   "execution_count": 31,
   "id": "76998eeb",
   "metadata": {},
   "outputs": [
    {
     "name": "stdout",
     "output_type": "stream",
     "text": [
      "[1.41421356 1.73205081 2.         2.23606798]\n",
      "[  7.3890561   20.08553692  54.59815003 148.4131591 ]\n",
      "[ 0.90929743  0.14112001 -0.7568025  -0.95892427]\n",
      "[0.69314718 1.09861229 1.38629436 1.60943791]\n"
     ]
    }
   ],
   "source": [
    "## Universal functions (ufuncs): are functions in NumPy that apply operations element-wise on arrays.\n",
    "\n",
    "arr=np.array([2,3,4,5])\n",
    "\n",
    "## Square Root\n",
    "print(np.sqrt(arr))\n",
    "\n",
    "## Exponential\n",
    "print(np.exp(arr))\n",
    "\n",
    "## Sine\n",
    "print(np.sin(arr))\n",
    "\n",
    "## Natural log\n",
    "print(np.log(arr))"
   ]
  },
  {
   "cell_type": "code",
   "execution_count": 32,
   "id": "929fa5fc",
   "metadata": {},
   "outputs": [
    {
     "name": "stdout",
     "output_type": "stream",
     "text": [
      "[[1 2 3]\n",
      " [4 5 6]\n",
      " [7 8 9]]\n"
     ]
    }
   ],
   "source": [
    "## Array slicing and Indexing\n",
    "\n",
    "arr=np.array([[1,2,3],[4,5,6],[7,8,9]])\n",
    "print(arr)\n"
   ]
  },
  {
   "cell_type": "code",
   "execution_count": 33,
   "id": "51a29621",
   "metadata": {},
   "outputs": [
    {
     "name": "stdout",
     "output_type": "stream",
     "text": [
      "2\n",
      "[[2 3]\n",
      " [5 6]]\n"
     ]
    }
   ],
   "source": [
    "print(arr[0][1])\n",
    "\n",
    "print(arr[0:2,1:])"
   ]
  },
  {
   "cell_type": "code",
   "execution_count": 34,
   "id": "45225874",
   "metadata": {},
   "outputs": [
    {
     "data": {
      "text/plain": [
       "array([[4, 5, 6],\n",
       "       [7, 8, 9]])"
      ]
     },
     "execution_count": 34,
     "metadata": {},
     "output_type": "execute_result"
    }
   ],
   "source": [
    "arr[1:]"
   ]
  },
  {
   "cell_type": "code",
   "execution_count": 35,
   "id": "2c68a92e",
   "metadata": {},
   "outputs": [
    {
     "data": {
      "text/plain": [
       "array([[5, 6],\n",
       "       [8, 9]])"
      ]
     },
     "execution_count": 35,
     "metadata": {},
     "output_type": "execute_result"
    }
   ],
   "source": [
    "arr[1:,1:]"
   ]
  },
  {
   "cell_type": "code",
   "execution_count": 36,
   "id": "e51c9f27",
   "metadata": {},
   "outputs": [
    {
     "name": "stdout",
     "output_type": "stream",
     "text": [
      "[[ 1  2  3  4]\n",
      " [ 4  5  6  7]\n",
      " [ 7  8  9 10]]\n"
     ]
    }
   ],
   "source": [
    "arr2=np.array([[1,2,3,4],[4,5,6,7],[7,8,9,10]])\n",
    "\n",
    "print(arr2)"
   ]
  },
  {
   "cell_type": "code",
   "execution_count": 37,
   "id": "a83aa965",
   "metadata": {},
   "outputs": [
    {
     "name": "stdout",
     "output_type": "stream",
     "text": [
      "[[5 6]\n",
      " [8 9]]\n"
     ]
    }
   ],
   "source": [
    "print(arr2[1:,1:3])"
   ]
  },
  {
   "cell_type": "code",
   "execution_count": null,
   "id": "3f0cd5b8",
   "metadata": {},
   "outputs": [
    {
     "name": "stdout",
     "output_type": "stream",
     "text": [
      "[[100   2   3   4]\n",
      " [100 100 100 100]\n",
      " [100 100 100 100]]\n"
     ]
    }
   ],
   "source": [
    "## Modify array elements\n",
    "\n",
    "arr2[0][0]=100\n",
    "print(arr2)"
   ]
  },
  {
   "cell_type": "code",
   "execution_count": 52,
   "id": "1f62c0b6",
   "metadata": {},
   "outputs": [
    {
     "name": "stdout",
     "output_type": "stream",
     "text": [
      "[[100   2   3   4]\n",
      " [100 100 100 100]\n",
      " [100 100 100 100]]\n"
     ]
    }
   ],
   "source": [
    "arr2[1:]=100\n",
    "print(arr2)"
   ]
  },
  {
   "cell_type": "code",
   "execution_count": 57,
   "id": "5e86d153",
   "metadata": {},
   "outputs": [
    {
     "name": "stdout",
     "output_type": "stream",
     "text": [
      "[-1.41421356 -0.70710678  0.          0.70710678  1.41421356]\n"
     ]
    }
   ],
   "source": [
    "## Statistical Problems --> Normalization\n",
    "\n",
    "## to have a mean of 0 and standard deviation of 1\n",
    "data=np.array([1,2,3,4,5])\n",
    "\n",
    "## Calculate the mean and Standard Deviation\n",
    "mean=np.mean(data)\n",
    "\n",
    "std_dev=np.std(data)\n",
    "\n",
    "## Calculate the Normalization\n",
    "normalization=(data-mean)/std_dev\n",
    "print(normalization)\n"
   ]
  },
  {
   "cell_type": "code",
   "execution_count": 58,
   "id": "daa9c238",
   "metadata": {},
   "outputs": [
    {
     "name": "stdout",
     "output_type": "stream",
     "text": [
      "5.5\n",
      "5.5\n",
      "[ 1  2  3  4  5  6  7  8  9 10]\n",
      "8.25\n"
     ]
    }
   ],
   "source": [
    "data=np.array([1,2,3,4,5,6,7,8,9,10])\n",
    "\n",
    "mean=np.mean(data)\n",
    "print(mean)\n",
    "\n",
    "median=np.median(data)\n",
    "print(median)\n",
    "\n",
    "std_dev=np.array(data)\n",
    "print(std_dev)\n",
    "\n",
    "variance=np.var(data)\n",
    "print(variance)"
   ]
  },
  {
   "cell_type": "code",
   "execution_count": 47,
   "id": "5af03cec",
   "metadata": {},
   "outputs": [
    {
     "name": "stdout",
     "output_type": "stream",
     "text": [
      "[False False False False False  True  True  True  True  True]\n",
      "[ 6  7  8  9 10]\n",
      "[5 6 7 8]\n"
     ]
    }
   ],
   "source": [
    "### Logical operation\n",
    "\n",
    "arr=np.array(range(1,11))\n",
    "\n",
    "print(arr>5)\n",
    "data=arr[arr>5]\n",
    "print(data)\n",
    "data2=arr[(arr>=5) & (arr<=8)]\n",
    "print(data2)\n"
   ]
  }
 ],
 "metadata": {
  "kernelspec": {
   "display_name": "venv",
   "language": "python",
   "name": "python3"
  },
  "language_info": {
   "codemirror_mode": {
    "name": "ipython",
    "version": 3
   },
   "file_extension": ".py",
   "mimetype": "text/x-python",
   "name": "python",
   "nbconvert_exporter": "python",
   "pygments_lexer": "ipython3",
   "version": "3.12.0"
  }
 },
 "nbformat": 4,
 "nbformat_minor": 5
}
