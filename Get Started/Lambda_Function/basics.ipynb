{
 "cells": [
  {
   "cell_type": "markdown",
   "id": "a8807cf2",
   "metadata": {},
   "source": [
    "Lambda functions are small anonymous functions defined using the lambda keyword.They can have any number of expressions but can have only one expression. They are commonly used for short operations or as arguments to higher order functions\n"
   ]
  },
  {
   "cell_type": "code",
   "execution_count": null,
   "id": "93502636",
   "metadata": {},
   "outputs": [
    {
     "name": "stdout",
     "output_type": "stream",
     "text": [
      "5\n"
     ]
    }
   ],
   "source": [
    "##  lambda arguments : expression\n",
    "\n",
    "## Addition\n",
    "\n",
    "add= lambda a,b:a+b\n",
    "\n",
    "print(add(2,3))"
   ]
  },
  {
   "cell_type": "code",
   "execution_count": 3,
   "id": "35fd0b5b",
   "metadata": {},
   "outputs": [
    {
     "name": "stdout",
     "output_type": "stream",
     "text": [
      "False\n"
     ]
    }
   ],
   "source": [
    "## Find Even num\n",
    "\n",
    "even_num= lambda a:a%2==0\n",
    "\n",
    "print(even_num(5))"
   ]
  },
  {
   "cell_type": "code",
   "execution_count": 3,
   "id": "fa36617d",
   "metadata": {},
   "outputs": [
    {
     "data": {
      "text/plain": [
       "18"
      ]
     },
     "execution_count": 3,
     "metadata": {},
     "output_type": "execute_result"
    }
   ],
   "source": [
    "## EX: \n",
    "\n",
    "add = lambda x,y,z : x+y+z\n",
    "add(5,6,7)"
   ]
  }
 ],
 "metadata": {
  "kernelspec": {
   "display_name": "venv",
   "language": "python",
   "name": "python3"
  },
  "language_info": {
   "codemirror_mode": {
    "name": "ipython",
    "version": 3
   },
   "file_extension": ".py",
   "mimetype": "text/x-python",
   "name": "python",
   "nbconvert_exporter": "python",
   "pygments_lexer": "ipython3",
   "version": "3.12.0"
  }
 },
 "nbformat": 4,
 "nbformat_minor": 5
}
