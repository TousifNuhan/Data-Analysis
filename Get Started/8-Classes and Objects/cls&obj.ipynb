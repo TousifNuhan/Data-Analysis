{
 "cells": [
  {
   "cell_type": "code",
   "execution_count": 6,
   "id": "be18b101",
   "metadata": {},
   "outputs": [
    {
     "name": "stdout",
     "output_type": "stream",
     "text": [
      "Nuhan web developer\n",
      "abc is a abc\n"
     ]
    }
   ],
   "source": [
    "class person:\n",
    "    name=\"Nuhan\"\n",
    "    occupation=\"web developer\"\n",
    "    def info(self):\n",
    "        print(f\"{self.name} is a {self.occupation}\")\n",
    "\n",
    "a=person()\n",
    "print(a.name,a.occupation)\n",
    "\n",
    "b=person()\n",
    "b.name=\"abc\"\n",
    "b.occupation=\"abc\"\n",
    "b.info()\n"
   ]
  }
 ],
 "metadata": {
  "kernelspec": {
   "display_name": "venv",
   "language": "python",
   "name": "python3"
  },
  "language_info": {
   "codemirror_mode": {
    "name": "ipython",
    "version": 3
   },
   "file_extension": ".py",
   "mimetype": "text/x-python",
   "name": "python",
   "nbconvert_exporter": "python",
   "pygments_lexer": "ipython3",
   "version": "3.12.0"
  }
 },
 "nbformat": 4,
 "nbformat_minor": 5
}
