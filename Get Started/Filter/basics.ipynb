{
 "cells": [
  {
   "cell_type": "markdown",
   "id": "212525ff",
   "metadata": {},
   "source": [
    "Filter() is a built-in function used to filter elements from an iterable (like a list, tuple, or string) based on a condition provided by a function.  "
   ]
  },
  {
   "cell_type": "code",
   "execution_count": null,
   "id": "ed038be8",
   "metadata": {},
   "outputs": [
    {
     "data": {
      "text/plain": [
       "[2, 4, 6, 8, 10]"
      ]
     },
     "execution_count": 2,
     "metadata": {},
     "output_type": "execute_result"
    }
   ],
   "source": [
    "## Basic\n",
    "\n",
    "def even(num):\n",
    "    if num%2==0:\n",
    "        return True\n",
    "\n",
    "lst =list(range(1,12))\n",
    "\n",
    "list(filter(even,lst))"
   ]
  },
  {
   "cell_type": "code",
   "execution_count": 3,
   "id": "c771ea7c",
   "metadata": {},
   "outputs": [
    {
     "data": {
      "text/plain": [
       "[6, 7, 8, 9, 10, 11]"
      ]
     },
     "execution_count": 3,
     "metadata": {},
     "output_type": "execute_result"
    }
   ],
   "source": [
    "## Filter with lambda function\n",
    "\n",
    "list(filter(lambda x:x>5,lst))"
   ]
  },
  {
   "cell_type": "code",
   "execution_count": 4,
   "id": "5665af47",
   "metadata": {},
   "outputs": [
    {
     "data": {
      "text/plain": [
       "[6, 8, 10]"
      ]
     },
     "execution_count": 4,
     "metadata": {},
     "output_type": "execute_result"
    }
   ],
   "source": [
    "## Filter with lambda function and multiple conditions\n",
    "\n",
    "list(filter(lambda x:x>5 and x%2==0,lst))\n"
   ]
  },
  {
   "cell_type": "code",
   "execution_count": 2,
   "id": "4db4f8ff",
   "metadata": {},
   "outputs": [
    {
     "data": {
      "text/plain": [
       "[{'name': 'tousif', 'age': 28}]"
      ]
     },
     "execution_count": 2,
     "metadata": {},
     "output_type": "execute_result"
    }
   ],
   "source": [
    "## filter() to check if the age is greater than 25\n",
    "\n",
    "people=[\n",
    "    {\"name\":\"nuhan\",\"age\":22},\n",
    "    {\"name\":\"tousif\",\"age\":28}\n",
    "]\n",
    "\n",
    "def greater_than_five(Age):\n",
    "    return Age['age']>25\n",
    "\n",
    "list(filter(greater_than_five,people))"
   ]
  },
  {
   "cell_type": "code",
   "execution_count": null,
   "id": "2fc5c955",
   "metadata": {},
   "outputs": [],
   "source": []
  }
 ],
 "metadata": {
  "kernelspec": {
   "display_name": "venv",
   "language": "python",
   "name": "python3"
  },
  "language_info": {
   "codemirror_mode": {
    "name": "ipython",
    "version": 3
   },
   "file_extension": ".py",
   "mimetype": "text/x-python",
   "name": "python",
   "nbconvert_exporter": "python",
   "pygments_lexer": "ipython3",
   "version": "3.12.0"
  }
 },
 "nbformat": 4,
 "nbformat_minor": 5
}
