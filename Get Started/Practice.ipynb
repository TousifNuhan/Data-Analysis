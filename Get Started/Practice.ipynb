{
 "cells": [
  {
   "cell_type": "code",
   "execution_count": 2,
   "id": "57d32d39",
   "metadata": {},
   "outputs": [
    {
     "name": "stdout",
     "output_type": "stream",
     "text": [
      "[1, 2, 3, 4]\n"
     ]
    }
   ],
   "source": [
    "s=[]\n",
    "for i in range(1,5):\n",
    "    s.append(i)\n",
    "print(s)    "
   ]
  },
  {
   "cell_type": "code",
   "execution_count": 3,
   "id": "1b13a6f5",
   "metadata": {},
   "outputs": [
    {
     "name": "stdout",
     "output_type": "stream",
     "text": [
      "{1: 1, 2: 2}\n"
     ]
    }
   ],
   "source": [
    "a={\n",
    "    1:1,\n",
    "    2:2\n",
    "}\n",
    "\n",
    "print(a)"
   ]
  },
  {
   "cell_type": "code",
   "execution_count": 1,
   "id": "f86add41",
   "metadata": {},
   "outputs": [
    {
     "data": {
      "text/plain": [
       "[1, 4, 9, 16, 25, 36, 49, 64, 81, 100]"
      ]
     },
     "execution_count": 1,
     "metadata": {},
     "output_type": "execute_result"
    }
   ],
   "source": [
    "numbers=list(range(1,11))\n",
    "\n",
    "list(map(lambda x:x**2,numbers))"
   ]
  },
  {
   "cell_type": "code",
   "execution_count": 3,
   "id": "683b6219",
   "metadata": {},
   "outputs": [
    {
     "data": {
      "text/plain": [
       "[1, 4, 9, 16, 25, 36, 49, 64, 81, 100]"
      ]
     },
     "execution_count": 3,
     "metadata": {},
     "output_type": "execute_result"
    }
   ],
   "source": [
    "def square(num):\n",
    "    return num**2\n",
    "\n",
    "list(map(square,numbers))"
   ]
  },
  {
   "cell_type": "code",
   "execution_count": 4,
   "id": "4b87abdf",
   "metadata": {},
   "outputs": [
    {
     "name": "stdout",
     "output_type": "stream",
     "text": [
      "[3, 7, 11]\n"
     ]
    }
   ],
   "source": [
    "num1=[1,4,6]\n",
    "num2=[2,3,5]\n",
    "\n",
    "multipleIterables= list(map(lambda x,y: x+y,num1,num2))\n",
    "print(multipleIterables)"
   ]
  },
  {
   "cell_type": "code",
   "execution_count": 6,
   "id": "f68aa0f0",
   "metadata": {},
   "outputs": [
    {
     "name": "stdout",
     "output_type": "stream",
     "text": [
      "[1, 2, 3]\n"
     ]
    }
   ],
   "source": [
    "## conver string to int\n",
    "strings=['1','2','3']\n",
    "\n",
    "inte= list(map(int,strings))\n",
    "print(inte)"
   ]
  },
  {
   "cell_type": "code",
   "execution_count": 7,
   "id": "5d5d6616",
   "metadata": {},
   "outputs": [
    {
     "name": "stdout",
     "output_type": "stream",
     "text": [
      "['ASA', 'ASD']\n"
     ]
    }
   ],
   "source": [
    "strings=['asa','asd']\n",
    "\n",
    "print(list(map(str.upper,strings)))"
   ]
  },
  {
   "cell_type": "code",
   "execution_count": null,
   "id": "8ff0e9c2",
   "metadata": {},
   "outputs": [
    {
     "data": {
      "text/plain": [
       "['nuhan', 'tousif']"
      ]
     },
     "execution_count": 16,
     "metadata": {},
     "output_type": "execute_result"
    }
   ],
   "source": [
    "def get_name(person):\n",
    "    return person['name']\n",
    "\n",
    "people=[\n",
    "    {'name':'nuhan','age':5},\n",
    "    {'name':'tousif','age':6}\n",
    "]\n",
    "\n",
    "list(map(get_name,people))"
   ]
  },
  {
   "cell_type": "code",
   "execution_count": 8,
   "id": "188733db",
   "metadata": {},
   "outputs": [
    {
     "name": "stdout",
     "output_type": "stream",
     "text": [
      "[2, 4, 56, 12, 12, 1, 3]\n",
      "[1, 2, 3, 4, 12, 12, 56]\n"
     ]
    }
   ],
   "source": [
    "a=[int(x) for x in input(\"\").split()]\n",
    "\n",
    "print(a)\n",
    "a.sort()\n",
    "print(a)\n"
   ]
  }
 ],
 "metadata": {
  "kernelspec": {
   "display_name": "Python 3",
   "language": "python",
   "name": "python3"
  },
  "language_info": {
   "codemirror_mode": {
    "name": "ipython",
    "version": 3
   },
   "file_extension": ".py",
   "mimetype": "text/x-python",
   "name": "python",
   "nbconvert_exporter": "python",
   "pygments_lexer": "ipython3",
   "version": "3.12.0"
  }
 },
 "nbformat": 4,
 "nbformat_minor": 5
}
