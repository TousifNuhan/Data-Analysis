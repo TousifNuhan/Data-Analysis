{
 "cells": [
  {
   "cell_type": "code",
   "execution_count": 7,
   "id": "f24d3ef7",
   "metadata": {},
   "outputs": [
    {
     "data": {
      "text/plain": [
       "[1, 4, 9, 16, 25, 36, 49, 64, 81, 100]"
      ]
     },
     "execution_count": 7,
     "metadata": {},
     "output_type": "execute_result"
    }
   ],
   "source": [
    "##Lambda function with map\n",
    "\n",
    "numbers= list(range(1,11))\n",
    "list(map(lambda x:x**2,numbers))\n"
   ]
  },
  {
   "cell_type": "code",
   "execution_count": 8,
   "id": "2e1df965",
   "metadata": {},
   "outputs": [
    {
     "data": {
      "text/plain": [
       "[1, 4, 9, 16, 25, 36, 49, 64, 81, 100]"
      ]
     },
     "execution_count": 8,
     "metadata": {},
     "output_type": "execute_result"
    }
   ],
   "source": [
    "##Normal map function\n",
    "\n",
    "def square(a):\n",
    "    return a**2\n",
    "\n",
    "list(map(square,numbers))"
   ]
  },
  {
   "cell_type": "code",
   "execution_count": 14,
   "id": "a6b02bf4",
   "metadata": {},
   "outputs": [
    {
     "name": "stdout",
     "output_type": "stream",
     "text": [
      "[7, 9, 11]\n"
     ]
    }
   ],
   "source": [
    "## Map multiple iterables\n",
    "\n",
    "num1= [2,3,4]\n",
    "num2= [5,6,7]\n",
    "multiple_iterable=list(map(lambda x,y:x+y,num1,num2))\n",
    "print(multiple_iterable)"
   ]
  },
  {
   "cell_type": "code",
   "execution_count": 15,
   "id": "1ff29c34",
   "metadata": {},
   "outputs": [
    {
     "name": "stdout",
     "output_type": "stream",
     "text": [
      "[1, 2, 3, 4]\n"
     ]
    }
   ],
   "source": [
    "## Use map to convert strings to integers\n",
    "\n",
    "str_num=['1','2','3','4']\n",
    "\n",
    "convert_str_to_int= list(map(int,str_num))\n",
    "print(convert_str_to_int)"
   ]
  },
  {
   "cell_type": "code",
   "execution_count": 16,
   "id": "adeed779",
   "metadata": {},
   "outputs": [
    {
     "name": "stdout",
     "output_type": "stream",
     "text": [
      "['APPLE', 'BANANA']\n"
     ]
    }
   ],
   "source": [
    "lower_str= ['apple','banana']\n",
    "\n",
    "upper_str= list(map(str.upper,lower_str))\n",
    "print(upper_str)"
   ]
  },
  {
   "cell_type": "code",
   "execution_count": 20,
   "id": "559a48f7",
   "metadata": {},
   "outputs": [
    {
     "data": {
      "text/plain": [
       "['nuhan', 'tousif']"
      ]
     },
     "execution_count": 20,
     "metadata": {},
     "output_type": "execute_result"
    }
   ],
   "source": [
    "def get_name(person):\n",
    "    return person['name']\n",
    "\n",
    "people=[\n",
    "    {'name':'nuhan','age':22},\n",
    "    {'name':'tousif','age':24}\n",
    "]    \n",
    "\n",
    "list(map(get_name,people))"
   ]
  },
  {
   "cell_type": "code",
   "execution_count": null,
   "id": "b656d394",
   "metadata": {},
   "outputs": [],
   "source": []
  }
 ],
 "metadata": {
  "kernelspec": {
   "display_name": "venv",
   "language": "python",
   "name": "python3"
  },
  "language_info": {
   "codemirror_mode": {
    "name": "ipython",
    "version": 3
   },
   "file_extension": ".py",
   "mimetype": "text/x-python",
   "name": "python",
   "nbconvert_exporter": "python",
   "pygments_lexer": "ipython3",
   "version": "3.12.0"
  }
 },
 "nbformat": 4,
 "nbformat_minor": 5
}
