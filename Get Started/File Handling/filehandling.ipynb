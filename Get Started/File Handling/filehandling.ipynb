{
 "cells": [
  {
   "cell_type": "code",
   "execution_count": 2,
   "id": "873601a6",
   "metadata": {},
   "outputs": [
    {
     "name": "stdout",
     "output_type": "stream",
     "text": [
      "updatedcontent\n"
     ]
    }
   ],
   "source": [
    "## read a whole file\n",
    "\n",
    "with open('example.txt','r') as file:\n",
    "    content=file.read() \n",
    "    print(content)"
   ]
  },
  {
   "cell_type": "code",
   "execution_count": 3,
   "id": "045ecedc",
   "metadata": {},
   "outputs": [
    {
     "name": "stdout",
     "output_type": "stream",
     "text": [
      "updatedcontent\n"
     ]
    }
   ],
   "source": [
    "## read a file line by line\n",
    "\n",
    "with open('example.txt','r') as file:\n",
    "    for line in file:\n",
    "        print(line.strip())  ## strip removes the newline character"
   ]
  },
  {
   "cell_type": "code",
   "execution_count": 4,
   "id": "48938a5c",
   "metadata": {},
   "outputs": [],
   "source": [
    "## writing a file(** Overwriting )\n",
    "\n",
    "with open('example.txt','w') as file:\n",
    "    file.write('hellooo!!!\\n')\n",
    "    file.write('hiii')"
   ]
  },
  {
   "cell_type": "code",
   "execution_count": 5,
   "id": "bb90953b",
   "metadata": {},
   "outputs": [],
   "source": [
    "## writing a file(**without Overwriting )\n",
    "\n",
    "with open('example.txt','a') as file:\n",
    "    file.write('\\nhellooo')"
   ]
  },
  {
   "cell_type": "code",
   "execution_count": 6,
   "id": "1ed0d039",
   "metadata": {},
   "outputs": [],
   "source": [
    "## writing a list of lines to a file\n",
    "\n",
    "lines=['\\nabc','\\ndef','\\nghi']\n",
    "\n",
    "with open('example.txt','a') as file:\n",
    "    file.writelines(lines) "
   ]
  },
  {
   "cell_type": "code",
   "execution_count": 7,
   "id": "f2f62373",
   "metadata": {},
   "outputs": [],
   "source": [
    "## Binary files\n",
    "\n",
    "#writing to a binary file\n",
    "\n",
    "data= b'\\x00\\x01\\x02\\x03\\x04'\n",
    "\n",
    "with open('example.bin','wb') as file:\n",
    "    file.write(data)"
   ]
  },
  {
   "cell_type": "code",
   "execution_count": 8,
   "id": "af8fed5a",
   "metadata": {},
   "outputs": [
    {
     "name": "stdout",
     "output_type": "stream",
     "text": [
      "b'\\x00\\x01\\x02\\x03\\x04'\n"
     ]
    }
   ],
   "source": [
    "## read to a binary file\n",
    "\n",
    "with open('example.bin','rb') as file:\n",
    "    f=file.read()\n",
    "    print(f)"
   ]
  },
  {
   "cell_type": "code",
   "execution_count": 9,
   "id": "6f1978d5",
   "metadata": {},
   "outputs": [
    {
     "name": "stdout",
     "output_type": "stream",
     "text": [
      "hellooo!!!\n",
      "hiii\n",
      "hellooo\n",
      "abc\n",
      "def\n",
      "ghi\n"
     ]
    }
   ],
   "source": [
    "## Read a content from a source text file and write it to a destination text file:\n",
    "\n",
    "with open('example.txt','r') as file:\n",
    "    content=file.read()\n",
    "    print(content)\n",
    "\n",
    "with open('destination.txt','w') as file:\n",
    "    file.write(content)"
   ]
  },
  {
   "cell_type": "code",
   "execution_count": 10,
   "id": "78d96fd0",
   "metadata": {},
   "outputs": [
    {
     "name": "stdout",
     "output_type": "stream",
     "text": [
      "['hellooo!!!\\n', 'hiii\\n', 'hellooo\\n', 'abc\\n', 'def\\n', 'ghi']\n",
      "6,6,35\n"
     ]
    }
   ],
   "source": [
    "## Read a text file and count the number of lines,words and characters\n",
    "\n",
    "def file_txt(path):\n",
    "    with open(path,'r') as file:\n",
    "    #    content= file.read()\n",
    "    #    print(content)\n",
    "          lines=file.readlines()\n",
    "          print(lines)\n",
    "          line_count=len(lines)\n",
    "          words_count=sum(len(line.split()) for line in lines)\n",
    "          char_count=sum(len(line) for line in lines)\n",
    "    return line_count,words_count,char_count \n",
    "\n",
    "path='example.txt'\n",
    "lines,words,characters=file_txt(path)\n",
    "print(f'{lines},{words},{characters}')    "
   ]
  },
  {
   "cell_type": "code",
   "execution_count": 11,
   "id": "97b71082",
   "metadata": {},
   "outputs": [
    {
     "name": "stdout",
     "output_type": "stream",
     "text": [
      "updatedcontent\n"
     ]
    }
   ],
   "source": [
    "## Writing and then reading a file\n",
    "\n",
    "with open('example.txt','w+') as file:\n",
    "    file.write('updated')\n",
    "    file.write('content')\n",
    "\n",
    "    file.seek(0)\n",
    "\n",
    "    content=file.read()\n",
    "    print(content)"
   ]
  },
  {
   "cell_type": "code",
   "execution_count": 12,
   "id": "d9c3d417",
   "metadata": {},
   "outputs": [
    {
     "ename": "FileExistsError",
     "evalue": "[WinError 183] Cannot create a file when that file already exists: 'package'",
     "output_type": "error",
     "traceback": [
      "\u001b[31m---------------------------------------------------------------------------\u001b[39m",
      "\u001b[31mFileExistsError\u001b[39m                           Traceback (most recent call last)",
      "\u001b[36mCell\u001b[39m\u001b[36m \u001b[39m\u001b[32mIn[12]\u001b[39m\u001b[32m, line 6\u001b[39m\n\u001b[32m      2\u001b[39m \u001b[38;5;28;01mimport\u001b[39;00m\u001b[38;5;250m \u001b[39m\u001b[34;01mos\u001b[39;00m\n\u001b[32m      4\u001b[39m directory=\u001b[33m'\u001b[39m\u001b[33mpackage\u001b[39m\u001b[33m'\u001b[39m\n\u001b[32m----> \u001b[39m\u001b[32m6\u001b[39m \u001b[43mos\u001b[49m\u001b[43m.\u001b[49m\u001b[43mmkdir\u001b[49m\u001b[43m(\u001b[49m\u001b[43mdirectory\u001b[49m\u001b[43m)\u001b[49m\n",
      "\u001b[31mFileExistsError\u001b[39m: [WinError 183] Cannot create a file when that file already exists: 'package'"
     ]
    }
   ],
   "source": [
    "## create a new directory\n",
    "import os\n",
    "\n",
    "directory='package'\n",
    "\n",
    "os.mkdir(directory)"
   ]
  },
  {
   "cell_type": "code",
   "execution_count": null,
   "id": "f711bf08",
   "metadata": {},
   "outputs": [
    {
     "name": "stdout",
     "output_type": "stream",
     "text": [
      "['destination.txt', 'example.bin', 'example.txt', 'filehandling.ipynb', 'package']\n"
     ]
    }
   ],
   "source": [
    "## Listing files and directories\n",
    "\n",
    "item=os.listdir('.')\n",
    "print(item)"
   ]
  },
  {
   "cell_type": "code",
   "execution_count": null,
   "id": "a519fbd7",
   "metadata": {},
   "outputs": [
    {
     "name": "stdout",
     "output_type": "stream",
     "text": [
      "folder\\file.txt\n"
     ]
    }
   ],
   "source": [
    "## Joining path\n",
    "\n",
    "dir_name=\"folder\"\n",
    "file_name=\"file.txt\"\n",
    "full_path=os.path.join(dir_name,file_name)\n",
    "print(full_path)\n"
   ]
  },
  {
   "cell_type": "code",
   "execution_count": null,
   "id": "2ad0572c",
   "metadata": {},
   "outputs": [
    {
     "name": "stdout",
     "output_type": "stream",
     "text": [
      "c:\\F\\DS\\Python\\Python Basics\\File Handling\\folder\\file.txt\n"
     ]
    }
   ],
   "source": [
    "dir_name=\"folder\"\n",
    "file_name=\"file.txt\"\n",
    "full_path=os.path.join(os.getcwd(),dir_name,file_name)\n",
    "print(full_path)"
   ]
  },
  {
   "cell_type": "code",
   "execution_count": 13,
   "id": "175d27a4",
   "metadata": {},
   "outputs": [
    {
     "name": "stdout",
     "output_type": "stream",
     "text": [
      "no\n"
     ]
    }
   ],
   "source": [
    "path=\"example1.txt\"\n",
    "\n",
    "if os.path.exists(path):\n",
    "    print(\"yes\")\n",
    "else:\n",
    "    print(\"no\")"
   ]
  },
  {
   "cell_type": "code",
   "execution_count": 16,
   "id": "d1d70f81",
   "metadata": {},
   "outputs": [
    {
     "name": "stdout",
     "output_type": "stream",
     "text": [
      "dir\n"
     ]
    }
   ],
   "source": [
    "## checking if a path is a file or directory\n",
    "\n",
    "# path=\"example.txt\"\n",
    "path2=\"package\"\n",
    "\n",
    "if os.path.isfile(path2):\n",
    "    print(\"file\")\n",
    "elif os.path.isdir(path2):\n",
    "    print(\"dir\")\n",
    "else:\n",
    "    print(\"none of them\")    "
   ]
  },
  {
   "cell_type": "code",
   "execution_count": 17,
   "id": "e76c8aa3",
   "metadata": {},
   "outputs": [
    {
     "name": "stdout",
     "output_type": "stream",
     "text": [
      "c:\\F\\DS\\Python\\Python Basics\\File Handling\\example.txt\n"
     ]
    }
   ],
   "source": [
    "## Getting the absolute path\n",
    "\n",
    "relative_path=\"example.txt\"\n",
    "absolute_path=os.path.abspath(relative_path)\n",
    "print(absolute_path)"
   ]
  }
 ],
 "metadata": {
  "kernelspec": {
   "display_name": "venv",
   "language": "python",
   "name": "python3"
  },
  "language_info": {
   "codemirror_mode": {
    "name": "ipython",
    "version": 3
   },
   "file_extension": ".py",
   "mimetype": "text/x-python",
   "name": "python",
   "nbconvert_exporter": "python",
   "pygments_lexer": "ipython3",
   "version": "3.12.0"
  }
 },
 "nbformat": 4,
 "nbformat_minor": 5
}
