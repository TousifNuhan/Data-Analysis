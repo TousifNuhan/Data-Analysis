{
 "cells": [
  {
   "cell_type": "code",
   "execution_count": 1,
   "id": "003293a2",
   "metadata": {},
   "outputs": [
    {
     "ename": "NameError",
     "evalue": "name 'b' is not defined",
     "output_type": "error",
     "traceback": [
      "\u001b[31m---------------------------------------------------------------------------\u001b[39m",
      "\u001b[31mNameError\u001b[39m                                 Traceback (most recent call last)",
      "\u001b[36mCell\u001b[39m\u001b[36m \u001b[39m\u001b[32mIn[1]\u001b[39m\u001b[32m, line 1\u001b[39m\n\u001b[32m----> \u001b[39m\u001b[32m1\u001b[39m a=\u001b[43mb\u001b[49m\n",
      "\u001b[31mNameError\u001b[39m: name 'b' is not defined"
     ]
    }
   ],
   "source": [
    "a=b"
   ]
  },
  {
   "cell_type": "code",
   "execution_count": null,
   "id": "a819df94",
   "metadata": {},
   "outputs": [
    {
     "name": "stdout",
     "output_type": "stream",
     "text": [
      "name 'b' is not defined\n"
     ]
    }
   ],
   "source": [
    "try:\n",
    "    a=b \n",
    "except NameError as err:\n",
    "    print(err)    "
   ]
  },
  {
   "cell_type": "code",
   "execution_count": null,
   "id": "43bf609d",
   "metadata": {},
   "outputs": [
    {
     "name": "stdout",
     "output_type": "stream",
     "text": [
      "division by zero\n"
     ]
    }
   ],
   "source": [
    "try:\n",
    "    a=10/0\n",
    "except ZeroDivisionError as err:\n",
    "    print(err)    "
   ]
  },
  {
   "cell_type": "code",
   "execution_count": null,
   "id": "5ef5a4eb",
   "metadata": {},
   "outputs": [
    {
     "name": "stdout",
     "output_type": "stream",
     "text": [
      "name 'b' is not defined\n"
     ]
    }
   ],
   "source": [
    "try:\n",
    "    a=10/2\n",
    "    a=b\n",
    "except ZeroDivisionError as err:\n",
    "    print(err)    \n",
    "except Exception as err1:\n",
    "    print(err1)"
   ]
  },
  {
   "cell_type": "code",
   "execution_count": 4,
   "id": "b78b362c",
   "metadata": {},
   "outputs": [
    {
     "name": "stdout",
     "output_type": "stream",
     "text": [
      "this is not a number\n"
     ]
    }
   ],
   "source": [
    "try:\n",
    "    a=int(input(\"num\"))\n",
    "    result=10/a\n",
    "except ValueError:\n",
    "    print(\"this is not a number\")\n",
    "except ZeroDivisionError:\n",
    "    print(\"0\")\n",
    "except Exception as err:\n",
    "    print(err)    "
   ]
  },
  {
   "cell_type": "code",
   "execution_count": 6,
   "id": "837dff17",
   "metadata": {},
   "outputs": [
    {
     "name": "stdout",
     "output_type": "stream",
     "text": [
      "this is not a number\n"
     ]
    }
   ],
   "source": [
    "## try,except,else block\n",
    "\n",
    "try:\n",
    "    a=int(input(\"num\"))\n",
    "    result=10/a\n",
    "except ValueError:\n",
    "    print(\"this is not a number\")\n",
    "except ZeroDivisionError:\n",
    "    print(\"0\")\n",
    "except Exception as err:\n",
    "    print(err) \n",
    "else:\n",
    "    print(f\"{result}\") "
   ]
  },
  {
   "cell_type": "code",
   "execution_count": null,
   "id": "df2c2d23",
   "metadata": {},
   "outputs": [],
   "source": [
    "## try,except,else,finally block\n",
    "\n",
    "try:\n",
    "    a=int(input(\"num\"))\n",
    "    result=10/a\n",
    "except ValueError:\n",
    "    print(\"this is not a number\")\n",
    "except ZeroDivisionError:\n",
    "    print(\"0\")\n",
    "except Exception as err:\n",
    "    print(err) \n",
    "else:    ## else block will only occur when there will be no error in result\n",
    "    print(f\"{result}\") \n",
    "finally:      ## It will always get executed whether there is any error or not\n",
    "    print(\"Execution completed\")"
   ]
  },
  {
   "cell_type": "code",
   "execution_count": null,
   "id": "a57cca08",
   "metadata": {},
   "outputs": [
    {
     "name": "stdout",
     "output_type": "stream",
     "text": [
      "not found\n"
     ]
    }
   ],
   "source": [
    "## File Hanadling and Exception Handling\n",
    "\n",
    "try:\n",
    "    file=open('example1.txt','r')\n",
    "    content=file.read()\n",
    "    print(content)\n",
    "except FileNotFoundError:\n",
    "    print(\"not found\")\n",
    "finally:\n",
    "    if 'file' in locals() and not file.closed():\n",
    "        file.close()\n",
    "        print('file closed') "
   ]
  },
  {
   "cell_type": "code",
   "execution_count": 10,
   "id": "fcff2f06",
   "metadata": {},
   "outputs": [
    {
     "name": "stdout",
     "output_type": "stream",
     "text": [
      "name 'b' is not defined\n",
      "file closed\n"
     ]
    }
   ],
   "source": [
    "## File Hanadling and Exception Handling 2\n",
    "\n",
    "try:\n",
    "    file=open('example1.txt','r')\n",
    "    content=file.read()\n",
    "    a=b\n",
    "    print(content)\n",
    "except FileNotFoundError:\n",
    "    print(\"not found\")\n",
    "except Exception as err:\n",
    "    print(err)\n",
    "finally:\n",
    "    if 'file' in locals() or not file.closed():\n",
    "        file.close()\n",
    "        print('file closed') "
   ]
  }
 ],
 "metadata": {
  "kernelspec": {
   "display_name": "venv",
   "language": "python",
   "name": "python3"
  },
  "language_info": {
   "codemirror_mode": {
    "name": "ipython",
    "version": 3
   },
   "file_extension": ".py",
   "mimetype": "text/x-python",
   "name": "python",
   "nbconvert_exporter": "python",
   "pygments_lexer": "ipython3",
   "version": "3.12.0"
  }
 },
 "nbformat": 4,
 "nbformat_minor": 5
}
