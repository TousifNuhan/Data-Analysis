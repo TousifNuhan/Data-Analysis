{
 "cells": [
  {
   "cell_type": "markdown",
   "metadata": {},
   "source": [
    "# Module 2: Control Flow Assignments\n",
    "## Lesson 2.1: Conditional Statements\n",
    "### Assignment 1: Simple if Statement\n",
    "\n",
    "Write a program that asks the user to input a number and prints whether the number is positive.\n",
    "\n",
    "### Assignment 2: if-else Statement\n",
    "\n",
    "Write a program that asks the user to input a number and prints whether the number is positive or negative.\n",
    "\n",
    "### Assignment 3: if-elif-else Statement\n",
    "\n",
    "Write a program that asks the user to input a number and prints whether the number is positive, negative, or zero.\n",
    "\n",
    "### Assignment 4: Nested if Statement\n",
    "\n",
    "Write a program that asks the user to input a number and prints whether the number is positive and even, positive and odd, or negative.\n",
    "\n",
    "## Lesson 2.2: Loops\n",
    "### Assignment 5: for Loop\n",
    "\n",
    "Write a program that prints all the numbers from 1 to 10 using a for loop.\n",
    "\n",
    "### Assignment 6: while Loop\n",
    "\n",
    "Write a program that prints all the numbers from 1 to 10 using a while loop.\n",
    "\n",
    "### Assignment 7: Nested Loops\n",
    "\n",
    "Write a program that prints a 5x5 grid of asterisks (*) using nested loops.\n",
    "\n",
    "### Assignment 8: break Statement\n",
    "\n",
    "Write a program that asks the user to input numbers until they input 0. The program should print the sum of all the input numbers.\n",
    "\n",
    "### Assignment 9: continue Statement\n",
    "\n",
    "Write a program that prints all the numbers from 1 to 10 except 5 using a for loop and continue statement.\n",
    "\n",
    "### Assignment 10: pass Statement\n",
    "\n",
    "Write a program that defines an empty function using the pass statement.\n",
    "\n",
    "### Assignment 11: Combining Loops and Conditionals\n",
    "\n",
    "Write a program that asks the user to input a number and prints all the even numbers from 1 to that number using a for loop.\n",
    "\n",
    "### Assignment 12: Factorial Calculation\n",
    "\n",
    "Write a program that calculates the factorial of a number input by the user using a while loop.\n",
    "\n",
    "### Assignment 13: Sum of Digits\n",
    "\n",
    "Write a program that calculates the sum of the digits of a number input by the user using a while loop.\n",
    "\n",
    "### Assignment 14: Prime Number Check\n",
    "\n",
    "Write a program that checks if a number input by the user is a prime number using a for loop.\n",
    "\n",
    "### Assignment 15: Fibonacci Sequence\n",
    "\n",
    "Write a program that prints the first n Fibonacci numbers, where n is input by the user."
   ]
  },
  {
   "cell_type": "code",
   "execution_count": null,
   "id": "30b34599",
   "metadata": {},
   "outputs": [
    {
     "name": "stdout",
     "output_type": "stream",
     "text": [
      "12.0\n"
     ]
    }
   ],
   "source": [
    "sum=0\n",
    "while True:\n",
    "    num=float(input(\"num\"))\n",
    "    if num==0 :\n",
    "        break\n",
    "    sum+=num\n",
    "    \n",
    "print(sum)\n",
    "\n"
   ]
  },
  {
   "cell_type": "code",
   "execution_count": 21,
   "id": "502a2b84",
   "metadata": {},
   "outputs": [
    {
     "name": "stdout",
     "output_type": "stream",
     "text": [
      "1\n",
      "2\n",
      "3\n",
      "4\n",
      "6\n",
      "7\n",
      "8\n",
      "9\n",
      "10\n"
     ]
    }
   ],
   "source": [
    "for i in range(1,11):\n",
    "    if(i==5):\n",
    "        continue\n",
    "    \n",
    "    print(i)\n"
   ]
  },
  {
   "cell_type": "code",
   "execution_count": 23,
   "id": "cac0e961",
   "metadata": {},
   "outputs": [
    {
     "name": "stdout",
     "output_type": "stream",
     "text": [
      "1\n"
     ]
    }
   ],
   "source": [
    "def empty_function():\n",
    "    pass\n",
    "print(\"1\")\n",
    "\n",
    "empty_function()"
   ]
  },
  {
   "cell_type": "code",
   "execution_count": 34,
   "id": "2a384569",
   "metadata": {},
   "outputs": [
    {
     "name": "stdout",
     "output_type": "stream",
     "text": [
      "2\n",
      "4\n"
     ]
    }
   ],
   "source": [
    "num = int(input(\"Number\"))\n",
    "sum=0\n",
    "for i in range(1,num+1):\n",
    "    if i%2==0 :\n",
    "        print(i)\n",
    "\n",
    "  "
   ]
  },
  {
   "cell_type": "code",
   "execution_count": 5,
   "id": "71f55e49",
   "metadata": {},
   "outputs": [
    {
     "name": "stdout",
     "output_type": "stream",
     "text": [
      "2\n"
     ]
    }
   ],
   "source": [
    "sum=1\n",
    "\n",
    "num= int(input(\"number: \"))\n",
    "\n",
    "while num>0:\n",
    "    sum=sum*num\n",
    "    num=num-1\n",
    "\n",
    "print(sum)    "
   ]
  },
  {
   "cell_type": "code",
   "execution_count": 20,
   "id": "91f669ef",
   "metadata": {},
   "outputs": [
    {
     "name": "stdout",
     "output_type": "stream",
     "text": [
      "12\n"
     ]
    }
   ],
   "source": [
    "num=[int(x) for x in input(\"numbers\")]\n",
    "\n",
    "i=0\n",
    "sum=0\n",
    "\n",
    "while i<len(num):\n",
    "      sum=sum+num[i]\n",
    "      i+=1\n",
    "\n",
    "print(sum)\n",
    "\n",
    "\n",
    "\n"
   ]
  },
  {
   "cell_type": "code",
   "execution_count": 28,
   "id": "81b49503",
   "metadata": {},
   "outputs": [
    {
     "ename": "SyntaxError",
     "evalue": "invalid character '️' (U+FE0F) (1895631511.py, line 24)",
     "output_type": "error",
     "traceback": [
      "\u001b[1;36m  Cell \u001b[1;32mIn[28], line 24\u001b[1;36m\u001b[0m\n\u001b[1;33m    2️⃣ Second case:\u001b[0m\n\u001b[1;37m     ^\u001b[0m\n\u001b[1;31mSyntaxError\u001b[0m\u001b[1;31m:\u001b[0m invalid character '️' (U+FE0F)\n"
     ]
    }
   ],
   "source": [
    "num= int(input(\"numbers: \"))\n",
    "\n",
    "a,b=0,1\n",
    "count=0\n",
    "\n",
    "while(count<num):\n",
    "    print(a)\n",
    "    a,b=b,a+b\n",
    "    count+=1\n",
    "   \n",
    "\n",
    "   ##1️⃣ First case:\n",
    "python\n",
    "Copy\n",
    "Edit\n",
    "a = b\n",
    "b = a + b\n",
    "Explanation:\n",
    "\n",
    "First, a is assigned the value of b.\n",
    "\n",
    "Then, b is updated to a + b, but since a was just set to b, this is equivalent to b = b + b.\n",
    "\n",
    "2️⃣ Second case:\n",
    "python\n",
    "Copy\n",
    "Edit\n",
    "a, b = b, a + b\n",
    "Explanation:\n",
    "\n",
    "This is a simultaneous (tuple) assignment in Python.\n",
    "\n",
    "The right-hand side (b, a + b) is evaluated first, so b is assigned to a, and a + b is assigned to b at the same time.\n",
    "\n",
    "This avoids an intermediate value overwrite, making it useful in algorithms like Fibonacci sequence updates.\n",
    "\n",
    "\n",
    "\n"
   ]
  },
  {
   "cell_type": "code",
   "execution_count": 4,
   "id": "cf38499f",
   "metadata": {},
   "outputs": [
    {
     "name": "stdout",
     "output_type": "stream",
     "text": [
      "9 is not a prime number\n"
     ]
    }
   ],
   "source": [
    "num= int(input(\"number: \"))\n",
    "is_true= True\n",
    "\n",
    "if(num<=1):\n",
    "    print(f\"{num} is not a prime number\")\n",
    "\n",
    "else:\n",
    "    for i in range(2,int(num**0.5)+1):\n",
    "        if(num%i==0):\n",
    "            is_true=False\n",
    "            break\n",
    "\n",
    "if is_true:\n",
    "        print(f\"{num} is a prime number\")\n",
    "else:\n",
    "         print(f\"{num} is not a prime number\")\n"
   ]
  },
  {
   "cell_type": "code",
   "execution_count": 1,
   "id": "d9fda2dc",
   "metadata": {},
   "outputs": [
    {
     "name": "stdout",
     "output_type": "stream",
     "text": [
      "1\n",
      "2\n",
      "3\n",
      "4\n",
      "5\n",
      "6\n",
      "7\n",
      "8\n",
      "9\n",
      "10\n"
     ]
    }
   ],
   "source": [
    "for i in range(1,11):\n",
    "    print(i)"
   ]
  },
  {
   "cell_type": "code",
   "execution_count": 2,
   "metadata": {},
   "outputs": [
    {
     "name": "stdout",
     "output_type": "stream",
     "text": [
      "1\n",
      "2\n",
      "3\n",
      "4\n",
      "5\n",
      "6\n",
      "7\n",
      "8\n",
      "9\n",
      "10\n"
     ]
    }
   ],
   "source": [
    "count=1\n",
    "while count<11:\n",
    "    print(count)\n",
    "    count=count+1"
   ]
  },
  {
   "cell_type": "code",
   "execution_count": 13,
   "id": "34a38161",
   "metadata": {},
   "outputs": [
    {
     "name": "stdout",
     "output_type": "stream",
     "text": [
      "* * * * * \n",
      "* * * * * \n",
      "* * * * * \n",
      "* * * * * \n",
      "* * * * * \n",
      "* * * * * \n"
     ]
    }
   ],
   "source": [
    "\n",
    "for i in range(6):\n",
    "    for j in range(1,6):\n",
    "         print(\"*\",end=\" \")\n",
    "\n",
    "\n",
    "    print()"
   ]
  }
 ],
 "metadata": {
  "kernelspec": {
   "display_name": "venv",
   "language": "python",
   "name": "python3"
  },
  "language_info": {
   "codemirror_mode": {
    "name": "ipython",
    "version": 3
   },
   "file_extension": ".py",
   "mimetype": "text/x-python",
   "name": "python",
   "nbconvert_exporter": "python",
   "pygments_lexer": "ipython3",
   "version": "3.12.0"
  }
 },
 "nbformat": 4,
 "nbformat_minor": 5
}
