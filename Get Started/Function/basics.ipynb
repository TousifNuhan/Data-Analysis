{
 "cells": [
  {
   "cell_type": "markdown",
   "id": "5d99ebfa",
   "metadata": {},
   "source": [
    "A functions is a block of code that performs a specific task. Functions help in organizing code, reusing code, improving readability. \n"
   ]
  },
  {
   "cell_type": "code",
   "execution_count": null,
   "id": "db398695",
   "metadata": {},
   "outputs": [
    {
     "name": "stdout",
     "output_type": "stream",
     "text": [
      "even\n",
      "odd\n"
     ]
    }
   ],
   "source": [
    "## Syntax\n",
    "\n",
    "def even_or_odd(num):\n",
    "    \"\"\" This function finds even or odd\"\"\"\n",
    "    if(num%2==0):\n",
    "        print(\"even\")\n",
    "    else:\n",
    "        print(\"odd\")\n",
    "\n",
    "even_or_odd(24)            \n",
    "even_or_odd(23)            "
   ]
  },
  {
   "cell_type": "code",
   "execution_count": null,
   "id": "48b13c5c",
   "metadata": {},
   "outputs": [
    {
     "name": "stdout",
     "output_type": "stream",
     "text": [
      "Guest hello\n",
      "Nuhan hello\n"
     ]
    }
   ],
   "source": [
    "## Default parameter\n",
    "\n",
    "def greet(name=\"Guest\"):  ## default parameter\n",
    "    print(f\"{name} hello\")\n",
    "\n",
    "greet()  ## No parameter\n",
    "greet('Nuhan')"
   ]
  },
  {
   "cell_type": "code",
   "execution_count": null,
   "id": "d6eed80c",
   "metadata": {},
   "outputs": [
    {
     "name": "stdout",
     "output_type": "stream",
     "text": [
      "1\n",
      "2\n",
      "4.56\n",
      "nuhan\n"
     ]
    }
   ],
   "source": [
    "## Variable length Arguments\n",
    "\n",
    "## 1. Positional argument\n",
    "## 2. keyword argument\n",
    "\n",
    "## 1. Positional argument\n",
    "\n",
    "def print_num(*args):\n",
    "    for num in args:\n",
    "        print(num)\n",
    "\n",
    "print_num(1,2,4.56,\"nuhan\")  ## There are set of arguments so it is called Positional argument"
   ]
  },
  {
   "cell_type": "code",
   "execution_count": null,
   "id": "a643542a",
   "metadata": {},
   "outputs": [
    {
     "name": "stdout",
     "output_type": "stream",
     "text": [
      "name:nuhan\n",
      "age:22\n"
     ]
    }
   ],
   "source": [
    "## 2. keyword argument\n",
    "\n",
    "def key(**kwargs):\n",
    "    for key,value in kwargs.items():\n",
    "        print(f\"{key}:{value}\")\n",
    "key(name=\"nuhan\",age=\"22\")  ## if the argument is in key value pair then it will be keyword argument"
   ]
  },
  {
   "cell_type": "code",
   "execution_count": 2,
   "id": "79ef9fa2",
   "metadata": {},
   "outputs": [
    {
     "name": "stdout",
     "output_type": "stream",
     "text": [
      "1\n",
      "2\n",
      "3\n",
      "4\n",
      "nuhan\n",
      "name:nuhan\n",
      "age:22\n",
      "<function combine_func at 0x0000025DBB000B80>\n"
     ]
    }
   ],
   "source": [
    "## combine both Positional argument and keyword argument\n",
    "\n",
    "def combine_func(*args,**kwargs):\n",
    "      for num in args:\n",
    "        print(num)\n",
    "  \n",
    "      for key,value in kwargs.items():\n",
    "           print(f\"{key}:{value}\")\n",
    "\n",
    "combine_func(1,2,3,4,\"nuhan\",name=\"nuhan\",age=\"22\")     \n",
    "print(combine_func)     \n"
   ]
  },
  {
   "cell_type": "code",
   "execution_count": 9,
   "id": "937e5b2a",
   "metadata": {},
   "outputs": [
    {
     "data": {
      "text/plain": [
       "12"
      ]
     },
     "execution_count": 9,
     "metadata": {},
     "output_type": "execute_result"
    }
   ],
   "source": [
    "## Return statements\n",
    "\n",
    "def mult(a,b):\n",
    "    return(a*b)\n",
    "\n",
    "mult(3,4)\n"
   ]
  },
  {
   "cell_type": "code",
   "execution_count": 3,
   "id": "f45831d2",
   "metadata": {},
   "outputs": [
    {
     "data": {
      "text/plain": [
       "(12, 3)"
      ]
     },
     "execution_count": 3,
     "metadata": {},
     "output_type": "execute_result"
    }
   ],
   "source": [
    "## Return statements\n",
    "\n",
    "def mult(a,b):\n",
    "    return a*b,a\n",
    "\n",
    "mult(3,4)  ## we are getting the output in a tuple\n"
   ]
  },
  {
   "cell_type": "code",
   "execution_count": null,
   "id": "018cf1c5",
   "metadata": {},
   "outputs": [],
   "source": []
  }
 ],
 "metadata": {
  "kernelspec": {
   "display_name": "venv",
   "language": "python",
   "name": "python3"
  },
  "language_info": {
   "codemirror_mode": {
    "name": "ipython",
    "version": 3
   },
   "file_extension": ".py",
   "mimetype": "text/x-python",
   "name": "python",
   "nbconvert_exporter": "python",
   "pygments_lexer": "ipython3",
   "version": "3.12.0"
  }
 },
 "nbformat": 4,
 "nbformat_minor": 5
}
