{
 "cells": [
  {
   "cell_type": "markdown",
   "id": "090ba404",
   "metadata": {},
   "source": [
    "Temperature Conversion"
   ]
  },
  {
   "cell_type": "code",
   "execution_count": 17,
   "id": "88f73ef2",
   "metadata": {},
   "outputs": [],
   "source": [
    "def temp_conversion(temp,unit):\n",
    "    if unit=='c':\n",
    "        print(temp*9/5 + 32)\n",
    "    elif unit==\"f\" :\n",
    "        print(temp-32*5/9)\n",
    "    else:\n",
    "        return None\n",
    "\n",
    "units=input().lower()\n",
    "temp_conversion(25,units)                \n"
   ]
  },
  {
   "cell_type": "markdown",
   "id": "b3a3e49c",
   "metadata": {},
   "source": [
    "Password strength checker\n"
   ]
  },
  {
   "cell_type": "code",
   "execution_count": 23,
   "id": "21beaa63",
   "metadata": {},
   "outputs": [
    {
     "name": "stdout",
     "output_type": "stream",
     "text": [
      "False\n",
      "True\n"
     ]
    }
   ],
   "source": [
    "def strngth_of_pass(p):\n",
    "    if len(p)<8:\n",
    "        return False\n",
    "    if not any(char.isdigit() for char in p):\n",
    "        return False\n",
    "    if not any(char.islower() for char in p):\n",
    "        return False\n",
    "    if not any(char.isupper() for char in p):\n",
    "        return False\n",
    "    if not any(char in '!@#$%^&*()' for char in p):\n",
    "        return False\n",
    "\n",
    "    return True      \n",
    "\n",
    "a= strngth_of_pass('WeakPwd')  \n",
    "print(a)\n",
    "b=strngth_of_pass('WeakPas12@')  \n",
    "print(b)"
   ]
  },
  {
   "cell_type": "markdown",
   "id": "3086715a",
   "metadata": {},
   "source": [
    "Calculate the total cost of items in a shopping card\n"
   ]
  },
  {
   "cell_type": "code",
   "execution_count": 25,
   "id": "9a940dbd",
   "metadata": {},
   "outputs": [
    {
     "data": {
      "text/plain": [
       "10"
      ]
     },
     "execution_count": 25,
     "metadata": {},
     "output_type": "execute_result"
    }
   ],
   "source": [
    "def total_cost(cart):\n",
    "     tot_cost=0\n",
    "     for item in cart:\n",
    "          tot_cost+=item['price']*item['quantity']\n",
    "     return tot_cost\n",
    "\n",
    "\n",
    "a= [\n",
    "    {'name':'Apple','price':2,'quantity':4},\n",
    "    {'name':'orange','price':1,'quantity':2}\n",
    "]    \n",
    "\n",
    "total_cost(a)"
   ]
  },
  {
   "cell_type": "markdown",
   "id": "58d28d88",
   "metadata": {},
   "source": [
    "Check if a string is palindrome\n"
   ]
  },
  {
   "cell_type": "code",
   "execution_count": 28,
   "id": "972edc64",
   "metadata": {},
   "outputs": [
    {
     "name": "stdout",
     "output_type": "stream",
     "text": [
      "not palindrome\n",
      "palindrome\n"
     ]
    }
   ],
   "source": [
    "def palindrome(line):\n",
    "    line=line.lower().replace(\" \",\"\")\n",
    "    if line == line[::-1]:\n",
    "        print(\"palindrome\")\n",
    "    else:\n",
    "         print(\"not palindrome\")\n",
    "        \n",
    "palindrome(\"hello!\")\n",
    "palindrome(\"madam\")       \n"
   ]
  },
  {
   "cell_type": "markdown",
   "id": "251b2e21",
   "metadata": {},
   "source": [
    "calculate the factorial of a number using recursion"
   ]
  },
  {
   "cell_type": "code",
   "execution_count": 29,
   "id": "27c54bf7",
   "metadata": {},
   "outputs": [
    {
     "name": "stdout",
     "output_type": "stream",
     "text": [
      "120\n"
     ]
    }
   ],
   "source": [
    "def factorial(num):\n",
    "    if num==0:\n",
    "        return 1\n",
    "    else:\n",
    "        return num*factorial(num-1)\n",
    "\n",
    "print(factorial(5))    "
   ]
  },
  {
   "cell_type": "markdown",
   "id": "de301400",
   "metadata": {},
   "source": [
    "A function to read a file and count the frequency of each word"
   ]
  },
  {
   "cell_type": "code",
   "execution_count": null,
   "id": "4530d1dd",
   "metadata": {},
   "outputs": [
    {
     "name": "stdout",
     "output_type": "stream",
     "text": [
      "hello\n",
      "how\n",
      "are\n",
      "you\n",
      "hiiii\n",
      "hiiii\n",
      "{'hello': 1, 'how': 1, 'are': 1, 'you': 1, 'hiiii': 2}\n"
     ]
    }
   ],
   "source": [
    "def count_frequency_of_word(file_path):\n",
    "    word_count={}\n",
    "    with open(file_path,'r') as file:       ### \n",
    "        for line in file:\n",
    "            words=line.split()\n",
    "            for word in words:\n",
    "                word=word.lower().strip('.,!?;:\"\\'')  ## Removes punctuation marks from the start and end of the word.\n",
    "                print(word)\n",
    "                word_count[word]= word_count.get(word,0)+1\n",
    "    return word_count        \n",
    "\n",
    "print(count_frequency_of_word('sample.txt'))       \n",
    "\n",
    "##  word = 'apple'\n",
    "##   word_count[word] = 3     # This sets word_count['apple'] = 3\n",
    "\n",
    "##  print(word_count[word])      # prints 3\n",
    "##  print(word_count['apple'])   # also prints 3\n",
    "##  print(word_count['word'])    # ❌ KeyError (unless you actually have a key called 'word')"
   ]
  },
  {
   "cell_type": "markdown",
   "id": "99d0da75",
   "metadata": {},
   "source": [
    "Email validation"
   ]
  },
  {
   "cell_type": "code",
   "execution_count": 35,
   "id": "a4e55675",
   "metadata": {},
   "outputs": [
    {
     "name": "stdout",
     "output_type": "stream",
     "text": [
      "True\n",
      "False\n"
     ]
    }
   ],
   "source": [
    "import re\n",
    "\n",
    "def validate_email(email):\n",
    "    pattern = r'^[a-zA-Z0-9._%+-]+@[a-zA-Z0-9.-]+\\.[a-zA-Z]{2,}$'\n",
    "    return re.match(pattern,email) is not None\n",
    "\n",
    "print(validate_email('test@gmail.com'))\n",
    "print(validate_email('test@g'))"
   ]
  }
 ],
 "metadata": {
  "kernelspec": {
   "display_name": "venv",
   "language": "python",
   "name": "python3"
  },
  "language_info": {
   "codemirror_mode": {
    "name": "ipython",
    "version": 3
   },
   "file_extension": ".py",
   "mimetype": "text/x-python",
   "name": "python",
   "nbconvert_exporter": "python",
   "pygments_lexer": "ipython3",
   "version": "3.12.0"
  }
 },
 "nbformat": 4,
 "nbformat_minor": 5
}
