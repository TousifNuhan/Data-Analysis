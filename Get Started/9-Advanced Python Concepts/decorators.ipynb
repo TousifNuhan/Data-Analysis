{
 "cells": [
  {
   "cell_type": "markdown",
   "id": "a24eb5b5",
   "metadata": {},
   "source": [
    "A decorator is a function that wraps another function to extend or modify its behavior — without changing its actual code.\n",
    "\n",
    "You can think of it as putting a function “inside” another function to add extra features, like logging, timing, or checking permissions."
   ]
  },
  {
   "cell_type": "code",
   "execution_count": null,
   "id": "b2c8da76",
   "metadata": {},
   "outputs": [
    {
     "name": "stdout",
     "output_type": "stream",
     "text": [
      "Good Morning\n",
      "hello world\n",
      "Thanks\n"
     ]
    }
   ],
   "source": [
    "def greet(fx):\n",
    "    def mfx():\n",
    "        print(\"Good Morning\")\n",
    "        fx()\n",
    "        print(\"Thanks\")\n",
    "    return mfx\n",
    "\n",
    "@greet\n",
    "def hello():\n",
    "    print('hello world')\n",
    "hello()\n",
    "\n",
    "## greet(hello)()"
   ]
  },
  {
   "cell_type": "code",
   "execution_count": null,
   "id": "b4c63594",
   "metadata": {},
   "outputs": [
    {
     "name": "stdout",
     "output_type": "stream",
     "text": [
      "7\n"
     ]
    }
   ],
   "source": [
    "def greet(fx):\n",
    "    def mfx(*args,**kwargs):   ## mfx --> wrapper function\n",
    "         print(\"Good Morning\")\n",
    "         fx(*args,**kwargs)\n",
    "         print(\"Thanks\")\n",
    "    return mfx\n",
    "\n",
    "@greet\n",
    "def add(a,b):\n",
    "    print(a+b)\n",
    "add(3,4)\n",
    "\n",
    "## greet(add)(3,4)"
   ]
  },
  {
   "cell_type": "code",
   "execution_count": null,
   "id": "ea56292e",
   "metadata": {},
   "outputs": [],
   "source": [
    "### Details\n",
    "\n",
    "def mfx(*args, **kwargs):\n",
    "    print(\"Good Morning\")\n",
    "    fx(*args, **kwargs)\n",
    "    print(\"Thanks\")\n",
    "## This is a wrapper function that adds behavior before and after calling fx.\n",
    "\n",
    "## It accepts *args and **kwargs so it can handle any number of arguments passed to the original function."
   ]
  }
 ],
 "metadata": {
  "kernelspec": {
   "display_name": "venv",
   "language": "python",
   "name": "python3"
  },
  "language_info": {
   "codemirror_mode": {
    "name": "ipython",
    "version": 3
   },
   "file_extension": ".py",
   "mimetype": "text/x-python",
   "name": "python",
   "nbconvert_exporter": "python",
   "pygments_lexer": "ipython3",
   "version": "3.12.0"
  }
 },
 "nbformat": 4,
 "nbformat_minor": 5
}
