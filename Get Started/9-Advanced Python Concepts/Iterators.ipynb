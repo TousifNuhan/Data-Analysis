{
 "cells": [
  {
   "cell_type": "code",
   "execution_count": null,
   "id": "72c51082",
   "metadata": {},
   "outputs": [
    {
     "name": "stdout",
     "output_type": "stream",
     "text": [
      "1\n",
      "2\n",
      "3\n",
      "1\n",
      "2\n",
      "3\n",
      "4\n",
      "5\n"
     ]
    }
   ],
   "source": [
    "a=list(range(1,6))\n",
    "\n",
    "it=iter(a)        ## When you call iter(a), Python gives you an iterator object for the list a. This iterator remembers where it is in the list and lets you retrieve the next element each time you call next() (or __next__()).\n",
    " \n",
    "print(it.__next__())\n",
    "print(it.__next__())\n",
    "\n",
    "## another way\n",
    "print(next(it))\n",
    "\n",
    "for i in a:\n",
    "    print(i)"
   ]
  },
  {
   "cell_type": "markdown",
   "id": "4c384b31",
   "metadata": {},
   "source": [
    "### All Iterators are Iterables, but...\n",
    "### Not all Iterables are Iterators."
   ]
  },
  {
   "cell_type": "markdown",
   "id": "3a289614",
   "metadata": {},
   "source": [
    " Key Differences\n",
    "Feature\t                 Iterable\t                                     Iterator\n",
    "Purpose\t            Can be looped over\t                         Used to fetch next item\n",
    "Has __iter__\t    ✅ Yes\t                                       ✅ Yes (returns itself)\n",
    "Has __next__\t    ❌ No (unless it’s also an iterator)\t           ✅ Yes\n",
    "Can use for\t        ✅ Yes\t                                       ✅ Yes\n",
    "Example\t             List, String, Set\t                            Object from iter() or custom class"
   ]
  },
  {
   "cell_type": "code",
   "execution_count": null,
   "id": "78d23be1",
   "metadata": {},
   "outputs": [],
   "source": [
    "## Iterable VS Iterator\n",
    "\n",
    "my_list = [1, 2, 3]\n",
    "it = iter(my_list)  # it is an iterator\n",
    "\n",
    "print(next(it))  # 1\n",
    "print(next(it))  # 2\n",
    "print(next(it))  # 3\n",
    "# next(it) would now raise StopIteration\n",
    "\n",
    "\n",
    "x = [1, 2, 3]         # Iterable\n",
    "y = iter(x)           # Iterator\n",
    "print(next(y))        # Works\n",
    "print(next(x))        # ❌ Error — list isn't an iterator"
   ]
  },
  {
   "cell_type": "code",
   "execution_count": null,
   "id": "0d24034e",
   "metadata": {},
   "outputs": [
    {
     "name": "stdout",
     "output_type": "stream",
     "text": [
      "1\n",
      "2\n",
      "3\n",
      "4\n",
      "5\n",
      "6\n",
      "7\n",
      "8\n",
      "9\n",
      "10\n"
     ]
    }
   ],
   "source": [
    "## creating our own iterator \n",
    "\n",
    "class TopTen:\n",
    "    def __init__(self):   ## this __init__  is not a keyword, but a convention defined by the language.\n",
    "        self.a=1\n",
    "    def __iter__(self):\n",
    "        return self\n",
    "    def __next__(self):\n",
    "        if(self.a<=10):\n",
    "            val=self.a\n",
    "            self.a+=1\n",
    "\n",
    "            return val\n",
    "        else:\n",
    "            raise StopIteration\n",
    "values=TopTen()\n",
    "print(next(values))\n",
    "\n",
    "for i in values:\n",
    "    print(i)\n",
    "\n",
    "## Note: Here we tought that we will get 2 '1'. But in iterator we will get only 1 '1'.\n"
   ]
  }
 ],
 "metadata": {
  "kernelspec": {
   "display_name": "venv",
   "language": "python",
   "name": "python3"
  },
  "language_info": {
   "codemirror_mode": {
    "name": "ipython",
    "version": 3
   },
   "file_extension": ".py",
   "mimetype": "text/x-python",
   "name": "python",
   "nbconvert_exporter": "python",
   "pygments_lexer": "ipython3",
   "version": "3.12.0"
  }
 },
 "nbformat": 4,
 "nbformat_minor": 5
}
