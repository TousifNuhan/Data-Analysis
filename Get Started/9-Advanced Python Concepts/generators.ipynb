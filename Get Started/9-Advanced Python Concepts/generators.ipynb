{
 "cells": [
  {
   "cell_type": "markdown",
   "id": "66c46e6e",
   "metadata": {},
   "source": [
    "Use a list when:\n",
    "\n",
    "  --You need all values stored\n",
    "\n",
    "  --You’ll iterate multiple times\n",
    "\n",
    "  --Data size is manageable\n",
    "  \n",
    "\n",
    "Use a generator when:\n",
    "\n",
    "  --Data is large or streaming\n",
    "\n",
    "  --You need better performance in memory usage\n",
    "\n",
    "  --You only need to loop once"
   ]
  },
  {
   "cell_type": "code",
   "execution_count": null,
   "id": "141c756c",
   "metadata": {},
   "outputs": [
    {
     "name": "stdout",
     "output_type": "stream",
     "text": [
      "1\n",
      "2\n",
      "3\n",
      "4\n"
     ]
    }
   ],
   "source": [
    "## Example for large data:\n",
    "\n",
    "def count_up_to(n):\n",
    "    i = 1\n",
    "    while i <= n:\n",
    "        yield i\n",
    "        i += 1\n",
    "\n",
    "gen = count_up_to(1000000)\n",
    "print(next(gen))  # 1\n",
    "print(next(gen))  # 2\n",
    "\n",
    "\n",
    "\n"
   ]
  },
  {
   "cell_type": "markdown",
   "id": "2250f3ea",
   "metadata": {},
   "source": [
    "***  yield i--> This is the magic part. Instead of returning a value and exiting like a regular function, yield pauses the function and sends the current value of i back to the caller. The function “remembers” where it left off and can resume later."
   ]
  },
  {
   "cell_type": "code",
   "execution_count": 5,
   "id": "3bfce768",
   "metadata": {},
   "outputs": [
    {
     "name": "stdout",
     "output_type": "stream",
     "text": [
      "1\n",
      "2\n"
     ]
    }
   ],
   "source": [
    "def count(n):\n",
    "    i=1\n",
    "    while i<=n:\n",
    "      yield i\n",
    "      i+=1\n",
    "a=count(10000)\n",
    "print(next(a))\n",
    "print(next(a))"
   ]
  },
  {
   "cell_type": "markdown",
   "id": "c745ab3c",
   "metadata": {},
   "source": [
    "How does this work as a generator?\n",
    "--The function that contains this code returns a generator object.\n",
    "\n",
    "--Every time you call next() on the generator, it runs until it hits a yield.\n",
    "\n",
    "--The yield sends the value out, and the function pauses.\n",
    "\n",
    "--When you call next() again, it resumes right after the last yield, continuing the loop with the updated i.\n",
    "\n",
    "--This continues until i > n, and then the function exits naturally (raising StopIteration)."
   ]
  }
 ],
 "metadata": {
  "kernelspec": {
   "display_name": "venv",
   "language": "python",
   "name": "python3"
  },
  "language_info": {
   "codemirror_mode": {
    "name": "ipython",
    "version": 3
   },
   "file_extension": ".py",
   "mimetype": "text/x-python",
   "name": "python",
   "nbconvert_exporter": "python",
   "pygments_lexer": "ipython3",
   "version": "3.12.0"
  }
 },
 "nbformat": 4,
 "nbformat_minor": 5
}
