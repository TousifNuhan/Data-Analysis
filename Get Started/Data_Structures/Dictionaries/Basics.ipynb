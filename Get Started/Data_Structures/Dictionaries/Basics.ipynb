{
 "cells": [
  {
   "cell_type": "markdown",
   "id": "36e7ff47",
   "metadata": {},
   "source": [
    "Dictionary --> Mutable  \n",
    "\n",
    "Key --> Immutable"
   ]
  },
  {
   "cell_type": "code",
   "execution_count": 2,
   "id": "0ed11247",
   "metadata": {},
   "outputs": [
    {
     "name": "stdout",
     "output_type": "stream",
     "text": [
      "<class 'dict'>\n",
      "<class 'dict'>\n"
     ]
    }
   ],
   "source": [
    "## Creating dictionaries\n",
    "\n",
    "empty_dict={}\n",
    "print(type(empty_dict))\n",
    "\n",
    "empty_dict2=dict()\n",
    "print(type(empty_dict2))"
   ]
  },
  {
   "cell_type": "code",
   "execution_count": 1,
   "id": "e2db0dc2",
   "metadata": {},
   "outputs": [
    {
     "name": "stdout",
     "output_type": "stream",
     "text": [
      "{'age': 22, 'address': 'kawlar'}\n"
     ]
    }
   ],
   "source": [
    "stu={\"age\":22 , \"address\":\"kawlar\"}\n",
    "print(stu)"
   ]
  },
  {
   "cell_type": "code",
   "execution_count": 7,
   "id": "9019f28d",
   "metadata": {},
   "outputs": [
    {
     "name": "stdout",
     "output_type": "stream",
     "text": [
      "{'name': 'Nuhan', 'Year': 3}\n",
      "<class 'dict'>\n"
     ]
    }
   ],
   "source": [
    "student={\"name\":\"Nuhan\",\"Year\":3}\n",
    "print(student)\n",
    "print(type(student))"
   ]
  },
  {
   "cell_type": "code",
   "execution_count": 8,
   "id": "5e176f8b",
   "metadata": {},
   "outputs": [
    {
     "name": "stdout",
     "output_type": "stream",
     "text": [
      "{'name': 'Nuhan', 'Year': 4}\n",
      "<class 'dict'>\n"
     ]
    }
   ],
   "source": [
    "## Error --> Key name should be unique. We cannot use same key name twice\n",
    "## Ex:\n",
    "student={\"name\":\"Nuhan\",\"Year\":3,\"Year\":4}\n",
    "print(student)\n",
    "print(type(student))"
   ]
  },
  {
   "cell_type": "code",
   "execution_count": 9,
   "id": "c9b280b8",
   "metadata": {},
   "outputs": [
    {
     "name": "stdout",
     "output_type": "stream",
     "text": [
      "Nuhan\n",
      "4\n",
      "Not available\n"
     ]
    }
   ],
   "source": [
    "## Accessing dictionary elements\n",
    "\n",
    "print(student['name'])\n",
    "\n",
    "## accessing using get method\n",
    "\n",
    "print(student.get('Year'))\n",
    "print(student.get('last_name','Not available'))"
   ]
  },
  {
   "cell_type": "code",
   "execution_count": null,
   "id": "aac08d14",
   "metadata": {},
   "outputs": [
    {
     "name": "stdout",
     "output_type": "stream",
     "text": [
      "{'name': 'Nuhan', 'Year': 4}\n",
      "{'name': 'Nuhan', 'Year': 4, 'address': 'BD'}\n",
      "{'name': 'Nuhan', 'address': 'BD'}\n",
      "{'name': 'Nuhan'}\n"
     ]
    }
   ],
   "source": [
    "## Modifying Dictionary elements\n",
    "\n",
    "student={\"name\":\"Nuhan\",\"Year\":3,\"Year\":4}\n",
    "student['Year']=4  ## Updated\n",
    "print(student)\n",
    "student['address']=\"BD\" ## added\n",
    "print(student)\n",
    "\n",
    "del student['Year']  ## deleted\n",
    "print(student)\n",
    "\n",
    "student.pop('address')  ## deleted\n",
    "print(student)"
   ]
  },
  {
   "cell_type": "code",
   "execution_count": 25,
   "id": "b43f4bbb",
   "metadata": {},
   "outputs": [
    {
     "name": "stdout",
     "output_type": "stream",
     "text": [
      "dict_keys(['name', 'address'])\n",
      "dict_values(['Nuhan', 'BD'])\n",
      "dict_items([('name', 'Nuhan'), ('address', 'BD')])\n"
     ]
    }
   ],
   "source": [
    "## Dictionary methods\n",
    "\n",
    "keys=student.keys()  ## get all the keys\n",
    "print(keys)\n",
    "\n",
    "values=student.values()  ## get all the values\n",
    "print(values)\n",
    "\n",
    "items=student.items()   ## get both key and value in a pair.It will give us a list of tuple in output\n",
    "print(items)"
   ]
  },
  {
   "cell_type": "code",
   "execution_count": 28,
   "id": "a453a1f2",
   "metadata": {},
   "outputs": [
    {
     "name": "stdout",
     "output_type": "stream",
     "text": [
      "{'name': 'Nuhan', 'address': 'BD'}\n",
      "{'name': 'Nuhan', 'address': 'BD'}\n",
      "{'name': 'Nuhan', 'address': 'BD'}\n",
      "{'name': 'Tousif', 'address': 'BD'}\n"
     ]
    }
   ],
   "source": [
    "## Shallow Copy \n",
    "student\n",
    "\n",
    "student_copy=student.copy()\n",
    "print(student_copy)\n",
    "print(student)\n",
    "\n",
    "student['name']=\"Tousif\"\n",
    "print(student_copy)\n",
    "print(student)"
   ]
  },
  {
   "cell_type": "code",
   "execution_count": 4,
   "id": "3563f6ca",
   "metadata": {},
   "outputs": [
    {
     "name": "stdout",
     "output_type": "stream",
     "text": [
      "name\n",
      "Year\n"
     ]
    }
   ],
   "source": [
    "## Iterate Over Dictionaries\n",
    "\n",
    "## Iterate over Keys\n",
    "student={\"name\":\"Nuhan\",\"Year\":3,\"Year\":4}\n",
    "for key in student.keys():\n",
    "    print(key)"
   ]
  },
  {
   "cell_type": "code",
   "execution_count": 5,
   "id": "09ba6062",
   "metadata": {},
   "outputs": [
    {
     "name": "stdout",
     "output_type": "stream",
     "text": [
      "Nuhan\n",
      "4\n"
     ]
    }
   ],
   "source": [
    "## Iterate over Values\n",
    "\n",
    "for values in student.values():\n",
    "    print(values)"
   ]
  },
  {
   "cell_type": "code",
   "execution_count": 6,
   "id": "39ec65ec",
   "metadata": {},
   "outputs": [
    {
     "name": "stdout",
     "output_type": "stream",
     "text": [
      "name:Nuhan\n",
      "Year:4\n"
     ]
    }
   ],
   "source": [
    "## Iterate over Key,Value pairs\n",
    "\n",
    "for key,value in student.items():\n",
    "    print(f\"{key}:{value}\")"
   ]
  },
  {
   "cell_type": "code",
   "execution_count": 1,
   "id": "b08dcd9e",
   "metadata": {},
   "outputs": [
    {
     "name": "stdout",
     "output_type": "stream",
     "text": [
      "Nuhan\n"
     ]
    }
   ],
   "source": [
    "## Nested Dictionary\n",
    "\n",
    "student={\n",
    "    \"stu1\":{\"name\":\"Tousif\",\"age\":22},\n",
    "    \"stu2\":{\"name\":\"Nuhan\",\"age\":23}\n",
    "}\n",
    "\n",
    "print(student[\"stu2\"][\"name\"])"
   ]
  },
  {
   "cell_type": "code",
   "execution_count": 2,
   "id": "53af8ba7",
   "metadata": {},
   "outputs": [
    {
     "name": "stdout",
     "output_type": "stream",
     "text": [
      "stu1:{'name': 'Tousif', 'age': 22}\n",
      "name:Tousif\n",
      "age:22\n",
      "stu2:{'name': 'Nuhan', 'age': 23}\n",
      "name:Nuhan\n",
      "age:23\n"
     ]
    }
   ],
   "source": [
    "## Iterating over Nested Dictionary\n",
    "\n",
    "for stu_id,stu_info in student.items():\n",
    "    print(f\"{stu_id}:{stu_info}\")\n",
    "    for key,value in stu_info.items():\n",
    "        print(f\"{key}:{value}\")\n"
   ]
  },
  {
   "cell_type": "code",
   "execution_count": 3,
   "id": "03a7dc1c",
   "metadata": {},
   "outputs": [
    {
     "name": "stdout",
     "output_type": "stream",
     "text": [
      "{0: 0, 1: 1, 2: 4, 3: 9, 4: 16}\n"
     ]
    }
   ],
   "source": [
    "## Dictionary Comprehension\n",
    "\n",
    "squares={i:i**2 for i in range(5) }\n",
    "print(squares)"
   ]
  },
  {
   "cell_type": "code",
   "execution_count": null,
   "id": "3d13b91d",
   "metadata": {},
   "outputs": [
    {
     "name": "stdout",
     "output_type": "stream",
     "text": [
      "{0: 0, 2: 4, 4: 16, 6: 36, 8: 64}\n"
     ]
    }
   ],
   "source": [
    "## Conditional Dictionary Comprehension\n",
    "\n",
    "evens={i:i**2 for i in range(10) if i%2==0 }\n",
    "print(evens)"
   ]
  },
  {
   "cell_type": "code",
   "execution_count": null,
   "id": "2d34e411",
   "metadata": {},
   "outputs": [
    {
     "name": "stdout",
     "output_type": "stream",
     "text": [
      "{1: 1, 2: 2, 3: 3, 4: 4}\n"
     ]
    }
   ],
   "source": [
    "## Examples:\n",
    "\n",
    "## Use a dictionary to count the frequency of elements in list\n",
    "\n",
    "numbers=[1,2,2,3,3,3,4,4,4,4]\n",
    "frequency={} \n",
    "\n",
    "for number in numbers:\n",
    "    if number in frequency:\n",
    "        frequency[number]+=1  ## If it does exist, it means we’ve seen it before — so we increment its count by 1\n",
    "    else:\n",
    "        frequency[number]=1   ## We add this number as a key and set its value to 1 (starting its count)\n",
    "print(frequency)            "
   ]
  },
  {
   "cell_type": "code",
   "execution_count": null,
   "id": "eadd14cb",
   "metadata": {},
   "outputs": [
    {
     "name": "stdout",
     "output_type": "stream",
     "text": [
      "{'a': 1, 'b': 3, 'c': 4}\n"
     ]
    }
   ],
   "source": [
    "## Merge dictionaries\n",
    "\n",
    "dict1={\n",
    "    \"a\":1,\n",
    "    \"b\":2\n",
    "}\n",
    "dict2={\n",
    "    \"b\":3,\n",
    "    \"c\":4\n",
    "}\n",
    "\n",
    "merge_list={**dict1,**dict2}  ## It unpacks the key-value pairs from dict1 and dict2 into a new dictionary.\n",
    "print(merge_list)"
   ]
  },
  {
   "cell_type": "code",
   "execution_count": null,
   "id": "e8a55bce",
   "metadata": {},
   "outputs": [
    {
     "name": "stdout",
     "output_type": "stream",
     "text": [
      "{'a': 1, 'b': 2}\n"
     ]
    }
   ],
   "source": [
    "## Basic of ** Operator --> The ** operator in Python is called the dictionary unpacking operator.\n",
    "\n",
    "dict1={\n",
    "    \"a\":1,\n",
    "    \"b\":2\n",
    "}\n",
    "\n",
    "print({**dict1})"
   ]
  },
  {
   "cell_type": "code",
   "execution_count": null,
   "id": "f68ebbc9",
   "metadata": {},
   "outputs": [],
   "source": []
  },
  {
   "cell_type": "code",
   "execution_count": null,
   "id": "edd39813",
   "metadata": {},
   "outputs": [],
   "source": []
  }
 ],
 "metadata": {
  "kernelspec": {
   "display_name": "venv",
   "language": "python",
   "name": "python3"
  },
  "language_info": {
   "codemirror_mode": {
    "name": "ipython",
    "version": 3
   },
   "file_extension": ".py",
   "mimetype": "text/x-python",
   "name": "python",
   "nbconvert_exporter": "python",
   "pygments_lexer": "ipython3",
   "version": "3.12.0"
  }
 },
 "nbformat": 4,
 "nbformat_minor": 5
}
