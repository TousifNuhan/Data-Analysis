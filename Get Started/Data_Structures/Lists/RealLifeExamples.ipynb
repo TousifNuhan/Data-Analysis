{
 "cells": [
  {
   "cell_type": "code",
   "execution_count": 1,
   "id": "65502651",
   "metadata": {},
   "outputs": [
    {
     "name": "stdout",
     "output_type": "stream",
     "text": [
      "dont forget to pay the bills\n",
      "-Buy groceries\n",
      "-pay bills\n",
      "-Schedule meeting\n",
      "-Go for a run\n"
     ]
    }
   ],
   "source": [
    "## Create a todo list to keep track of task\n",
    "\n",
    "to_do_list=['Buy groceries','clean the house','pay bills']\n",
    "\n",
    "to_do_list.append('Schedule meeting')\n",
    "to_do_list.append('Go for a run')\n",
    "\n",
    "to_do_list.remove('clean the house')\n",
    "\n",
    "if \"pay bills\" in to_do_list:\n",
    "    print(\"dont forget to pay the bills\")\n",
    "\n",
    "for item in to_do_list:\n",
    "    print(f\"-{item}\")    \n"
   ]
  },
  {
   "cell_type": "code",
   "execution_count": 4,
   "id": "cee03b8f",
   "metadata": {},
   "outputs": [
    {
     "name": "stdout",
     "output_type": "stream",
     "text": [
      "49.714285714285715\n",
      "90 23\n"
     ]
    }
   ],
   "source": [
    "## Create a list to store and calculate average grades for students\n",
    "\n",
    "num= [34,45,23,43,78,90]\n",
    "num.append(35)\n",
    "\n",
    "average_grade= sum(num)/len(num)\n",
    "\n",
    "print(average_grade)\n",
    "highest_mark=max(num)\n",
    "lowest_mark=min(num)\n",
    "\n",
    "print(highest_mark,lowest_mark)\n"
   ]
  },
  {
   "cell_type": "code",
   "execution_count": 5,
   "id": "f1d34140",
   "metadata": {},
   "outputs": [
    {
     "name": "stdout",
     "output_type": "stream",
     "text": [
      "2\n",
      "Great!\n",
      "Not good\n",
      "Excellent!!!\n",
      "not much better\n"
     ]
    }
   ],
   "source": [
    "## use a list to collect and analyze user feedback\n",
    "feedback=[\"Great!\",\"Not good\",\"Excellent!!!\"]\n",
    "feedback.append(\"not much better\")\n",
    "\n",
    "positive_feedback_count= sum( 1 for comment in feedback if \"great\" in comment.lower() or \"excellent\" in comment.lower())\n",
    "\n",
    "print(positive_feedback_count)\n",
    "for i in feedback:\n",
    "    print(f\"{i}\")"
   ]
  },
  {
   "cell_type": "code",
   "execution_count": null,
   "id": "2815d9fc",
   "metadata": {},
   "outputs": [],
   "source": [
    "## Nested List\n",
    "\n",
    "a= [[1,2,3],[5,'C','A'],[3.14,5,'abc']]\n",
    "\n",
    "a[2][0:2]"
   ]
  }
 ],
 "metadata": {
  "kernelspec": {
   "display_name": "venv",
   "language": "python",
   "name": "python3"
  },
  "language_info": {
   "codemirror_mode": {
    "name": "ipython",
    "version": 3
   },
   "file_extension": ".py",
   "mimetype": "text/x-python",
   "name": "python",
   "nbconvert_exporter": "python",
   "pygments_lexer": "ipython3",
   "version": "3.12.0"
  }
 },
 "nbformat": 4,
 "nbformat_minor": 5
}
