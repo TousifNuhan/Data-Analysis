{
 "cells": [
  {
   "cell_type": "code",
   "execution_count": null,
   "metadata": {},
   "outputs": [
    {
     "name": "stdout",
     "output_type": "stream",
     "text": [
      "[3, 4, 5]\n",
      "[1, 2, 3, 4, 5]\n",
      "[6, 7, 8, 9]\n",
      "[1, 3, 5, 7, 9]\n",
      "[9, 8, 7, 6, 5, 4, 3, 2, 1]\n",
      "[9, 5, 1]\n"
     ]
    }
   ],
   "source": [
    "a= [1,2,3,4,5,6,7,8,9]\n",
    "\n",
    "print(a[2:5])\n",
    "\n",
    "print(a[:5])\n",
    "print(a[5:])\n",
    "print(a[::2])\n",
    "print(a[::-1])\n",
    "print(a[::-4])"
   ]
  },
  {
   "cell_type": "markdown",
   "metadata": {},
   "source": [
    "## Practice nicher gulo"
   ]
  },
  {
   "cell_type": "code",
   "execution_count": 13,
   "metadata": {},
   "outputs": [
    {
     "name": "stdout",
     "output_type": "stream",
     "text": [
      "[1, 2, 3, 4, 5, 6, 7, 8, 9, 10]\n",
      "[1, 2, 3, 4, 5, 6, 7, 8, 9, 10]\n",
      "[2, 3, 4, 5, 6, 7, 8, 9, 10]\n",
      "[2, 3, 4, 5]\n",
      "[2]\n",
      "10\n",
      "[10, 9, 8, 7, 6, 5, 4, 3, 2, 1]\n",
      "[10]\n",
      "[1, 2, 3, 4, 5, 6, 7, 8, 9]\n",
      "[8, 9]\n"
     ]
    }
   ],
   "source": [
    "a=list(range(1,11))\n",
    "print(a)\n",
    "\n",
    "print(a[::])\n",
    "print(a[1:])\n",
    "print(a[1:5])\n",
    "print(a[1:2])\n",
    "print(a[-1])\n",
    "print(a[::-1])\n",
    "print(a[-1:])\n",
    "print(a[:-1])\n",
    "print(a[-3:-1])"
   ]
  }
 ],
 "metadata": {
  "kernelspec": {
   "display_name": "venv",
   "language": "python",
   "name": "python3"
  },
  "language_info": {
   "codemirror_mode": {
    "name": "ipython",
    "version": 3
   },
   "file_extension": ".py",
   "mimetype": "text/x-python",
   "name": "python",
   "nbconvert_exporter": "python",
   "pygments_lexer": "ipython3",
   "version": "3.12.0"
  }
 },
 "nbformat": 4,
 "nbformat_minor": 2
}
