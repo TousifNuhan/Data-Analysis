{
 "cells": [
  {
   "cell_type": "markdown",
   "metadata": {},
   "source": [
    "##### Iteration means going through each item in a collection (like a list, tuple, dictionary, or string) one by one.\n",
    "\n",
    "### For example, when you use a loop (like for or while), you are iterating over a sequence.\n",
    "\n"
   ]
  },
  {
   "cell_type": "code",
   "execution_count": null,
   "metadata": {},
   "outputs": [
    {
     "name": "stdout",
     "output_type": "stream",
     "text": [
      "1\n",
      "2\n",
      "3\n",
      "4\n",
      "5\n",
      "67\n",
      "8\n"
     ]
    }
   ],
   "source": [
    "num = [1,2,3,4,5,67,8]\n",
    "\n",
    "for i in num:\n",
    "    print(i)"
   ]
  },
  {
   "cell_type": "code",
   "execution_count": null,
   "metadata": {},
   "outputs": [
    {
     "name": "stdout",
     "output_type": "stream",
     "text": [
      "0 1\n",
      "1 2\n",
      "2 3\n",
      "3 4\n",
      "4 5\n",
      "5 67\n",
      "6 8\n"
     ]
    }
   ],
   "source": [
    "## Iterating with index\n",
    "\n",
    "num = [1,2,3,4,5,67,8]\n",
    "for index,i in enumerate(num):\n",
    "    print(index,i)\n"
   ]
  },
  {
   "cell_type": "code",
   "execution_count": 6,
   "metadata": {},
   "outputs": [
    {
     "data": {
      "text/plain": [
       "[0, 1, 4, 9, 16, 25, 36, 49, 64, 81]"
      ]
     },
     "execution_count": 6,
     "metadata": {},
     "output_type": "execute_result"
    }
   ],
   "source": [
    "## LIST COMPREHENSION\n",
    "\n",
    "[ x**2 for x in range(10) ]\n"
   ]
  },
  {
   "cell_type": "markdown",
   "metadata": {},
   "source": [
    "### List Comprehension\n",
    "\n",
    "### Basic Syntax       [ x**2 for x in range(10) ]\n",
    "\n",
    "### Conditional Syntax    [ x**2 for x in range(10) if condition]\n",
    "\n",
    "### Nested List Comprehension  [[i,j] for i in lst1 for j in lst2]\n"
   ]
  },
  {
   "cell_type": "code",
   "execution_count": 4,
   "metadata": {},
   "outputs": [
    {
     "data": {
      "text/plain": [
       "[0, 1, 4, 9, 16, 25, 36, 49, 64, 81]"
      ]
     },
     "execution_count": 4,
     "metadata": {},
     "output_type": "execute_result"
    }
   ],
   "source": [
    "## Basic Syntax       [ x**2 for x in range(10) ]\n",
    "\n",
    "[x**2 for x in range(10)]"
   ]
  },
  {
   "cell_type": "code",
   "execution_count": 5,
   "metadata": {},
   "outputs": [
    {
     "data": {
      "text/plain": [
       "[0, 4, 16, 36, 64]"
      ]
     },
     "execution_count": 5,
     "metadata": {},
     "output_type": "execute_result"
    }
   ],
   "source": [
    "## Conditional Syntax    [ x**2 for x in range(10) if condition]\n",
    "\n",
    "[ x**2 for x in range(10) if x%2==0]"
   ]
  },
  {
   "cell_type": "code",
   "execution_count": 6,
   "metadata": {},
   "outputs": [
    {
     "name": "stdout",
     "output_type": "stream",
     "text": [
      "[[1, 'abc'], [1, 'def'], [2, 'abc'], [2, 'def'], [3, 'abc'], [3, 'def'], [4, 'abc'], [4, 'def'], [5, 'abc'], [5, 'def']]\n"
     ]
    }
   ],
   "source": [
    "## Nested List Comprehension  [[i,j] for i in lst1 for j in lst2]\n",
    "\n",
    "lst1 = [1,2,3,4,5]\n",
    "lst2 = [\"abc\",\"def\"]\n",
    "\n",
    "# a=[(i,j) for i in lst1 for j in lst2 ]\n",
    "# a=[{i,j} for i in lst1 for j in lst2 ]\n",
    "a=[[i,j] for i in lst1 for j in lst2 ]\n",
    "print(a)\n"
   ]
  },
  {
   "cell_type": "code",
   "execution_count": null,
   "metadata": {},
   "outputs": [
    {
     "name": "stdout",
     "output_type": "stream",
     "text": [
      "[5, 2, 3]\n",
      "[1, 2, 3, 4, 5]\n"
     ]
    }
   ],
   "source": [
    "## List comprehension with function call\n",
    "\n",
    "words=[\"hello\",\"hi\",\"bye\"]\n",
    "\n",
    "lengths=[len(word) for word in words ]\n",
    "\n",
    "print(lengths)"
   ]
  }
 ],
 "metadata": {
  "kernelspec": {
   "display_name": "venv",
   "language": "python",
   "name": "python3"
  },
  "language_info": {
   "codemirror_mode": {
    "name": "ipython",
    "version": 3
   },
   "file_extension": ".py",
   "mimetype": "text/x-python",
   "name": "python",
   "nbconvert_exporter": "python",
   "pygments_lexer": "ipython3",
   "version": "3.12.0"
  }
 },
 "nbformat": 4,
 "nbformat_minor": 2
}
