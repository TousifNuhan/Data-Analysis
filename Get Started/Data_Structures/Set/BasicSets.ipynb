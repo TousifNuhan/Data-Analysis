{
 "cells": [
  {
   "cell_type": "markdown",
   "id": "47bb757d",
   "metadata": {},
   "source": [
    "In Python, a set is an unordered, mutable collection of unique elements. It's similar to a list or a tuple, but it cannot have duplicate values, and its elements are not indexed."
   ]
  },
  {
   "cell_type": "code",
   "execution_count": 6,
   "id": "8891ae7d",
   "metadata": {},
   "outputs": [
    {
     "name": "stdout",
     "output_type": "stream",
     "text": [
      "{1, 2, 3, 4, 5}\n",
      "<class 'set'>\n"
     ]
    }
   ],
   "source": [
    "# basic syntax\n",
    "\n",
    "sets= {1,2,3,4,5,5}\n",
    "print(sets)\n",
    "print(type(sets))\n"
   ]
  },
  {
   "cell_type": "code",
   "execution_count": 7,
   "id": "7838a1aa",
   "metadata": {},
   "outputs": [
    {
     "name": "stdout",
     "output_type": "stream",
     "text": [
      "<class 'set'>\n"
     ]
    }
   ],
   "source": [
    "new_sets= set()\n",
    "print(type(new_sets))"
   ]
  },
  {
   "cell_type": "code",
   "execution_count": 8,
   "id": "1ac68c61",
   "metadata": {},
   "outputs": [
    {
     "name": "stdout",
     "output_type": "stream",
     "text": [
      "{1, 2, 3, 4, 5}\n"
     ]
    }
   ],
   "source": [
    "#conversion\n",
    "\n",
    "neww_sets = set([1,2,3,4,5])\n",
    "print(neww_sets)"
   ]
  },
  {
   "cell_type": "code",
   "execution_count": 9,
   "id": "bfbe8d53",
   "metadata": {},
   "outputs": [
    {
     "name": "stdout",
     "output_type": "stream",
     "text": [
      "{1, 2, 3, 4, 5, 6}\n",
      "{1, 2, 3, 4, 5, 6}\n"
     ]
    }
   ],
   "source": [
    "## Adding and removing elements\n",
    "\n",
    "## Adding\n",
    "neww_sets.add(6)\n",
    "print(neww_sets)\n",
    "\n",
    "neww_sets.add(2)\n",
    "print(neww_sets)\n",
    "\n"
   ]
  },
  {
   "cell_type": "code",
   "execution_count": 10,
   "id": "8e50a8d8",
   "metadata": {},
   "outputs": [
    {
     "name": "stdout",
     "output_type": "stream",
     "text": [
      "{1, 3, 4, 5, 6}\n"
     ]
    }
   ],
   "source": [
    "## Removing Elements\n",
    "\n",
    "neww_sets.remove(2)\n",
    "print(neww_sets)"
   ]
  },
  {
   "cell_type": "code",
   "execution_count": 19,
   "id": "bb14cf03",
   "metadata": {},
   "outputs": [
    {
     "name": "stdout",
     "output_type": "stream",
     "text": [
      "{1, 4, 5, 6}\n"
     ]
    }
   ],
   "source": [
    "## Discard\n",
    "\n",
    "neww_sets.discard(2)\n",
    "print(neww_sets)"
   ]
  },
  {
   "cell_type": "code",
   "execution_count": null,
   "id": "32b66bfa",
   "metadata": {},
   "outputs": [
    {
     "name": "stdout",
     "output_type": "stream",
     "text": [
      "{4, 5, 6}\n"
     ]
    }
   ],
   "source": [
    "## POP\n",
    "neww_sets.pop()\n",
    "print(neww_sets)"
   ]
  },
  {
   "cell_type": "code",
   "execution_count": 21,
   "id": "3ebe2201",
   "metadata": {},
   "outputs": [
    {
     "name": "stdout",
     "output_type": "stream",
     "text": [
      "set()\n"
     ]
    }
   ],
   "source": [
    "## Clear\n",
    "\n",
    "new_sets.clear()\n",
    "print(new_sets)"
   ]
  },
  {
   "cell_type": "code",
   "execution_count": 22,
   "id": "d127ae2d",
   "metadata": {},
   "outputs": [
    {
     "name": "stdout",
     "output_type": "stream",
     "text": [
      "True\n",
      "False\n"
     ]
    }
   ],
   "source": [
    "## Set Membership Test\n",
    "\n",
    "aSet={1,2,3,4,5}\n",
    "\n",
    "print(3 in aSet)\n",
    "print(10 in aSet)"
   ]
  },
  {
   "cell_type": "markdown",
   "id": "0f254ba8",
   "metadata": {},
   "source": [
    "Mathematical Operation"
   ]
  },
  {
   "cell_type": "code",
   "execution_count": null,
   "id": "a6ec4f33",
   "metadata": {},
   "outputs": [
    {
     "name": "stdout",
     "output_type": "stream",
     "text": [
      "{1, 2, 3, 4, 5, 6, 7}\n"
     ]
    }
   ],
   "source": [
    "## i. Union\n",
    "\n",
    "set1={1,2,3,4}\n",
    "set2={4,5,6,7}\n",
    "\n",
    "union= set1.union(set2)\n",
    "print(union)"
   ]
  },
  {
   "cell_type": "code",
   "execution_count": null,
   "id": "b3aa54d0",
   "metadata": {},
   "outputs": [
    {
     "name": "stdout",
     "output_type": "stream",
     "text": [
      "{4}\n",
      "{4}\n",
      "{4, 5, 6, 7}\n"
     ]
    }
   ],
   "source": [
    "## ii. Intersection\n",
    "\n",
    "Intersection_Set= set1.intersection(set2)\n",
    "print(Intersection_Set)\n",
    "\n",
    "## iii. intersection_update : here only set1 will be updated\n",
    "\n",
    "set1.intersection_update(set2)\n",
    "\n",
    "print(set1)\n",
    "print(set2)\n"
   ]
  },
  {
   "cell_type": "code",
   "execution_count": null,
   "id": "db8dc740",
   "metadata": {},
   "outputs": [
    {
     "name": "stdout",
     "output_type": "stream",
     "text": [
      "{1, 2}\n",
      "{1, 2, 3, 4, 5}\n",
      "{6, 7}\n"
     ]
    }
   ],
   "source": [
    "## iv. difference\n",
    "\n",
    "a={1,2,3,4,5}\n",
    "b={3,4,5,6,7}\n",
    "\n",
    "print(a.difference(b))\n",
    "print(a)\n",
    "\n",
    "## v. difference_update\n",
    "\n",
    "\n",
    "# a.difference_update(b)\n",
    "# print(a)\n",
    "\n",
    "b.difference_update(a)\n",
    "print(b)\n",
    "\n"
   ]
  },
  {
   "cell_type": "code",
   "execution_count": null,
   "id": "152f5cca",
   "metadata": {},
   "outputs": [
    {
     "name": "stdout",
     "output_type": "stream",
     "text": [
      "{1, 2, 5, 6}\n"
     ]
    }
   ],
   "source": [
    "## vi. Symmetric difference: It will take unique elements from both of the sets\n",
    "\n",
    "a={1,2,3,4}\n",
    "b={3,4,5,6}\n",
    "\n",
    "print(a.symmetric_difference(b))\n",
    "\n",
    "\n"
   ]
  },
  {
   "cell_type": "code",
   "execution_count": null,
   "id": "41463a96",
   "metadata": {},
   "outputs": [
    {
     "name": "stdout",
     "output_type": "stream",
     "text": [
      "{1, 2, 5, 6}\n"
     ]
    }
   ],
   "source": [
    "## vii. Symmetric difference_update:\n",
    "\n",
    "a.symmetric_difference_update(b)\n",
    "print(a)"
   ]
  },
  {
   "cell_type": "markdown",
   "id": "6f3ecf4c",
   "metadata": {},
   "source": [
    "Sets Methods\n"
   ]
  },
  {
   "cell_type": "code",
   "execution_count": 13,
   "id": "4e47e0bc",
   "metadata": {},
   "outputs": [
    {
     "name": "stdout",
     "output_type": "stream",
     "text": [
      "True\n",
      "False\n",
      "False\n"
     ]
    }
   ],
   "source": [
    "## i. is subset\n",
    "\n",
    "set1={1,2,3,4}\n",
    "set2={1,2,3,4,5,6}\n",
    "set3={3,4,5,6}\n",
    "\n",
    "print(set1.issubset(set2))\n",
    "print(set2.issubset(set1))\n",
    "print(set1.issubset(set3))"
   ]
  },
  {
   "cell_type": "code",
   "execution_count": 8,
   "id": "64aa80c4",
   "metadata": {},
   "outputs": [
    {
     "name": "stdout",
     "output_type": "stream",
     "text": [
      "True\n",
      "False\n"
     ]
    }
   ],
   "source": [
    "## ii. is superset\n",
    "\n",
    "set1={1,2,3,4,5,6,7,8}\n",
    "set2={6,7,8}\n",
    "set3={1,2,3,4,5,6,7,8}\n",
    "\n",
    "print(set1.issuperset(set2))\n",
    "print(set2.issuperset(set3))"
   ]
  },
  {
   "cell_type": "code",
   "execution_count": null,
   "id": "3a5d809a",
   "metadata": {},
   "outputs": [
    {
     "name": "stdout",
     "output_type": "stream",
     "text": [
      "['this', 'is', 'new', 'bd', 'new']\n",
      "{'this', 'is', 'bd', 'new'}\n",
      "4\n"
     ]
    }
   ],
   "source": [
    "## Counting unique words in text\n",
    "\n",
    "text=\"this is new bd new\"\n",
    "\n",
    "spliting_words=text.split()\n",
    "\n",
    "print(spliting_words)\n",
    "\n",
    "unique_words=set(spliting_words)\n",
    "print(unique_words)\n",
    "print(len(unique_words))"
   ]
  }
 ],
 "metadata": {
  "kernelspec": {
   "display_name": "venv",
   "language": "python",
   "name": "python3"
  },
  "language_info": {
   "codemirror_mode": {
    "name": "ipython",
    "version": 3
   },
   "file_extension": ".py",
   "mimetype": "text/x-python",
   "name": "python",
   "nbconvert_exporter": "python",
   "pygments_lexer": "ipython3",
   "version": "3.12.0"
  }
 },
 "nbformat": 4,
 "nbformat_minor": 5
}
