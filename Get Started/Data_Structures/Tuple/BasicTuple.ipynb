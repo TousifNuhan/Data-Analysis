{
 "cells": [
  {
   "cell_type": "markdown",
   "id": "5f194f6d",
   "metadata": {},
   "source": [
    "### Tuples are immutable(once we create a tuple we cannot change it like list)"
   ]
  },
  {
   "cell_type": "code",
   "execution_count": null,
   "id": "9aa4d2fc",
   "metadata": {},
   "outputs": [
    {
     "name": "stdout",
     "output_type": "stream",
     "text": [
      "()\n",
      "<class 'tuple'>\n"
     ]
    }
   ],
   "source": [
    "## creating a tuple\n",
    "\n",
    "new_tuple= ()\n",
    "print(new_tuple)\n",
    "print(type(new_tuple))"
   ]
  },
  {
   "cell_type": "code",
   "execution_count": 2,
   "id": "02fc2f9b",
   "metadata": {},
   "outputs": [
    {
     "name": "stdout",
     "output_type": "stream",
     "text": [
      "<class 'list'>\n",
      "<class 'tuple'>\n"
     ]
    }
   ],
   "source": [
    "lists=list()\n",
    "print(type(lists))\n",
    "\n",
    "tuples=tuple()\n",
    "print(type(tuples))"
   ]
  },
  {
   "cell_type": "code",
   "execution_count": null,
   "id": "7a0a5917",
   "metadata": {},
   "outputs": [
    {
     "name": "stdout",
     "output_type": "stream",
     "text": [
      "(1, 2, 3, 45)\n",
      "[1, 2, 3, 4, 5]\n"
     ]
    }
   ],
   "source": [
    "## Type Conversion\n",
    "\n",
    "##I'm giving a list so it will be converted into a tuple\n",
    "numbers= tuple([1,2,3,45])\n",
    "print(numbers)\n",
    "\n",
    "## Vice-Versa\n",
    "numbers2= list((1,2,3,4,5))\n",
    "print(numbers2)"
   ]
  },
  {
   "cell_type": "code",
   "execution_count": 6,
   "id": "22b1696c",
   "metadata": {},
   "outputs": [
    {
     "name": "stdout",
     "output_type": "stream",
     "text": [
      "(1, 'abc', 3.14)\n"
     ]
    }
   ],
   "source": [
    "## We can write any data type value in a tuple\n",
    "\n",
    "mixed_tuple= (1,'abc',3.14)\n",
    "print(mixed_tuple)"
   ]
  },
  {
   "cell_type": "code",
   "execution_count": null,
   "id": "44ba1408",
   "metadata": {},
   "outputs": [
    {
     "data": {
      "text/plain": [
       "1"
      ]
     },
     "execution_count": 9,
     "metadata": {},
     "output_type": "execute_result"
    }
   ],
   "source": [
    "## Accessing Tuple elements  -->  Same slicing methods like list. Even we can access it like a list.\n",
    "\n",
    "numbers[0]"
   ]
  },
  {
   "cell_type": "code",
   "execution_count": 12,
   "id": "cbaac482",
   "metadata": {},
   "outputs": [
    {
     "data": {
      "text/plain": [
       "45"
      ]
     },
     "execution_count": 12,
     "metadata": {},
     "output_type": "execute_result"
    }
   ],
   "source": [
    "numbers[-1]"
   ]
  },
  {
   "cell_type": "code",
   "execution_count": 13,
   "id": "131c19d9",
   "metadata": {},
   "outputs": [
    {
     "data": {
      "text/plain": [
       "(1, 2, 3, 45)"
      ]
     },
     "execution_count": 13,
     "metadata": {},
     "output_type": "execute_result"
    }
   ],
   "source": [
    "numbers[::]"
   ]
  },
  {
   "cell_type": "code",
   "execution_count": 14,
   "id": "fbd76837",
   "metadata": {},
   "outputs": [
    {
     "name": "stdout",
     "output_type": "stream",
     "text": [
      "(1, 2, 3, 45, 1, 'abc', 3.14)\n"
     ]
    }
   ],
   "source": [
    "## Tuple Operations\n",
    "\n",
    "concatenate_tuples= numbers + mixed_tuple\n",
    "print(concatenate_tuples)"
   ]
  },
  {
   "cell_type": "code",
   "execution_count": null,
   "id": "9b5d56ff",
   "metadata": {},
   "outputs": [
    {
     "data": {
      "text/plain": [
       "(1, 2, 3, 45, 1, 2, 3, 45, 1, 2, 3, 45)"
      ]
     },
     "execution_count": 15,
     "metadata": {},
     "output_type": "execute_result"
    }
   ],
   "source": [
    "## --> In multiplication it repeats for nth=(3 here) number of time.\n",
    "## When you multiply a tuple by an integer in Python, you're repeating the contents of that tuple multiple times.\n",
    "\n",
    "## Using * on a tuple with an integer repeats the elements.\n",
    "\n",
    "numbers * 3 "
   ]
  },
  {
   "cell_type": "code",
   "execution_count": null,
   "id": "4170531b",
   "metadata": {},
   "outputs": [
    {
     "name": "stdout",
     "output_type": "stream",
     "text": [
      "[1, 2, 3, 34, 5]\n"
     ]
    }
   ],
   "source": [
    "## Tuples are immutable. Here is how:\n",
    "\n",
    "lst=[1,2,3,4,5]\n",
    "\n",
    "lst[3]=34\n",
    "print(lst)\n",
    "\n",
    "## BUT\n",
    "\n",
    "## numbers= tuple([1,2,3,45])\n",
    "## numbers[1]=45  \n",
    "## numbers is a tuple. So once we have defined the tuple so now we cannot change it like list.\n",
    " \n",
    "## **** BUT ONE THING WE CAN DO IS WE CAN CONVERT THE TUPLE TO LIST AND THEN WE CAN CHNAGE IT. AFTER CHANGING THE LIST WE CAN CONVERT THAT TO TUPLE AGAIN. THIS IS HOW WE CAN CHNAGE THE VALUE OF A TUPLE.\n"
   ]
  },
  {
   "cell_type": "code",
   "execution_count": 4,
   "id": "1fa3642e",
   "metadata": {},
   "outputs": [],
   "source": [
    "numbers=(1,2,3,4,5,1)"
   ]
  },
  {
   "cell_type": "code",
   "execution_count": 7,
   "id": "2feaf3aa",
   "metadata": {},
   "outputs": [
    {
     "name": "stdout",
     "output_type": "stream",
     "text": [
      "2\n",
      "2\n"
     ]
    }
   ],
   "source": [
    "## Tuple Methods\n",
    "\n",
    "print(numbers.count(1)) ## --> It will count that how many times 1 is present in the tuple\n",
    "\n",
    "print(numbers.index(3))  ## --> It will tell that in which index number 3 is present "
   ]
  },
  {
   "cell_type": "code",
   "execution_count": 8,
   "id": "030b074f",
   "metadata": {},
   "outputs": [
    {
     "name": "stdout",
     "output_type": "stream",
     "text": [
      "(1, 'abc', 3.14)\n"
     ]
    }
   ],
   "source": [
    "## Packing and Unpacking Tuple\n",
    "\n",
    "## Packing:\n",
    "\n",
    "numberss= 1,'abc',3.14\n",
    "print(numberss)"
   ]
  },
  {
   "cell_type": "code",
   "execution_count": 11,
   "id": "c21b955e",
   "metadata": {},
   "outputs": [
    {
     "name": "stdout",
     "output_type": "stream",
     "text": [
      "1\n",
      "abc\n",
      "3.14\n"
     ]
    }
   ],
   "source": [
    "## Unpacking Tuples\n",
    "\n",
    "a,b,c=numberss\n",
    "print(a)\n",
    "print(b)\n",
    "print(c)\n"
   ]
  },
  {
   "cell_type": "code",
   "execution_count": 13,
   "id": "553bf8d9",
   "metadata": {},
   "outputs": [
    {
     "name": "stdout",
     "output_type": "stream",
     "text": [
      "1\n",
      "[2, 3, 4, 5]\n",
      "6\n"
     ]
    }
   ],
   "source": [
    "## Unpacking with *\n",
    "\n",
    "numberss=[1,2,3,4,5,6]\n",
    "\n",
    "first,*second,third=numberss\n",
    "\n",
    "print(first)\n",
    "print(second)\n",
    "print(third)\n"
   ]
  },
  {
   "cell_type": "code",
   "execution_count": 2,
   "id": "10e7276d",
   "metadata": {},
   "outputs": [
    {
     "name": "stdout",
     "output_type": "stream",
     "text": [
      "[3.14, 5]\n"
     ]
    },
    {
     "data": {
      "text/plain": [
       "'A'"
      ]
     },
     "execution_count": 2,
     "metadata": {},
     "output_type": "execute_result"
    }
   ],
   "source": [
    "## Nested Tuples\n",
    "\n",
    "## Nested List\n",
    "\n",
    "a= [[1,2,3],[5,'C','A'],[3.14,5,'abc']]\n",
    "\n",
    "print(a[2][0:2])\n",
    "a[1][2]"
   ]
  },
  {
   "cell_type": "code",
   "execution_count": 5,
   "id": "6e11ffed",
   "metadata": {},
   "outputs": [
    {
     "name": "stdout",
     "output_type": "stream",
     "text": [
      "(3.14, 5)\n"
     ]
    }
   ],
   "source": [
    "a= [[1,2,3],[5,'C','A'],(3.14,5,'abc')]\n",
    "\n",
    "print(a[2][0:2])"
   ]
  },
  {
   "cell_type": "code",
   "execution_count": 19,
   "id": "9ca9003d",
   "metadata": {},
   "outputs": [
    {
     "name": "stdout",
     "output_type": "stream",
     "text": [
      "False\n"
     ]
    }
   ],
   "source": [
    "## Nested Tuple\n",
    "\n",
    "a=((1,2,3),(True,False),('abc',3.14,'c'))\n",
    "\n",
    "print(a[1][1])"
   ]
  },
  {
   "cell_type": "code",
   "execution_count": 7,
   "id": "144ec5e1",
   "metadata": {},
   "outputs": [
    {
     "name": "stdout",
     "output_type": "stream",
     "text": [
      "1 2 3 \n",
      "5 C A \n",
      "3.14 5 abc \n"
     ]
    }
   ],
   "source": [
    "for sub_tuple in a:\n",
    "    for item in sub_tuple:\n",
    "        print(item,end=\" \")  ## end ensures that the next print will be in same line\n",
    "    print()    "
   ]
  },
  {
   "cell_type": "code",
   "execution_count": null,
   "id": "ab517bea",
   "metadata": {},
   "outputs": [
    {
     "name": "stdout",
     "output_type": "stream",
     "text": [
      "['i', 'in', 'dhaka', 'bd']\n"
     ]
    }
   ],
   "source": []
  },
  {
   "cell_type": "code",
   "execution_count": null,
   "id": "9f99dd9a",
   "metadata": {},
   "outputs": [],
   "source": []
  }
 ],
 "metadata": {
  "kernelspec": {
   "display_name": "venv",
   "language": "python",
   "name": "python3"
  },
  "language_info": {
   "codemirror_mode": {
    "name": "ipython",
    "version": 3
   },
   "file_extension": ".py",
   "mimetype": "text/x-python",
   "name": "python",
   "nbconvert_exporter": "python",
   "pygments_lexer": "ipython3",
   "version": "3.12.0"
  }
 },
 "nbformat": 4,
 "nbformat_minor": 5
}
