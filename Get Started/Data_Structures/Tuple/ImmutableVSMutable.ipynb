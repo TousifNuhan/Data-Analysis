{
 "cells": [
  {
   "cell_type": "code",
   "execution_count": null,
   "id": "d6bf6a4a",
   "metadata": {},
   "outputs": [
    {
     "ename": "TypeError",
     "evalue": "'tuple' object does not support item assignment",
     "output_type": "error",
     "traceback": [
      "\u001b[31m---------------------------------------------------------------------------\u001b[39m",
      "\u001b[31mTypeError\u001b[39m                                 Traceback (most recent call last)",
      "\u001b[36mCell\u001b[39m\u001b[36m \u001b[39m\u001b[32mIn[5]\u001b[39m\u001b[32m, line 3\u001b[39m\n\u001b[32m      1\u001b[39m \u001b[38;5;66;03m## Immutable\u001b[39;00m\n\u001b[32m      2\u001b[39m t = (\u001b[32m1\u001b[39m, \u001b[32m2\u001b[39m, \u001b[32m3\u001b[39m)\n\u001b[32m----> \u001b[39m\u001b[32m3\u001b[39m \u001b[43mt\u001b[49m\u001b[43m[\u001b[49m\u001b[32;43m0\u001b[39;49m\u001b[43m]\u001b[49m = \u001b[32m100\u001b[39m  \u001b[38;5;66;03m# ❌ Error: 'tuple' object does not support item assignment\u001b[39;00m\n\u001b[32m      5\u001b[39m \u001b[38;5;66;03m## Mutable\u001b[39;00m\n\u001b[32m      6\u001b[39m l = [\u001b[32m1\u001b[39m, \u001b[32m2\u001b[39m, \u001b[32m3\u001b[39m]\n",
      "\u001b[31mTypeError\u001b[39m: 'tuple' object does not support item assignment"
     ]
    }
   ],
   "source": [
    "## In Python, some objects are immutable, meaning once you create them, you can't modify their contents. If you want to \"change\" them, you have to create a new one.\n",
    "\n",
    "## Immutable\n",
    "t = (1, 2, 3)\n",
    "t[0] = 100  # ❌ Error: 'tuple' object does not support item assignment\n",
    "\n",
    "## Mutable\n",
    "l = [1, 2, 3]\n",
    "l[0] = 100  # ✅ Works fine\n",
    "print(l)    # [100, 2, 3]"
   ]
  }
 ],
 "metadata": {
  "kernelspec": {
   "display_name": "Python 3",
   "language": "python",
   "name": "python3"
  },
  "language_info": {
   "codemirror_mode": {
    "name": "ipython",
    "version": 3
   },
   "file_extension": ".py",
   "mimetype": "text/x-python",
   "name": "python",
   "nbconvert_exporter": "python",
   "pygments_lexer": "ipython3",
   "version": "3.12.0"
  }
 },
 "nbformat": 4,
 "nbformat_minor": 5
}
